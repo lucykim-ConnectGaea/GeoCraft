{
 "cells": [
  {
   "cell_type": "code",
   "execution_count": 1,
   "id": "50b8221a-5055-45f2-949a-b6fcf84d32a9",
   "metadata": {},
   "outputs": [],
   "source": [
    "import ee\n",
    "import geemap\n",
    "import matplotlib.pyplot as plt\n",
    "import datetime\n",
    "import pandas as pd\n",
    "import folium"
   ]
  },
  {
   "cell_type": "code",
   "execution_count": 18,
   "id": "1d3e5730-0b0d-4171-becf-54855fc3e122",
   "metadata": {},
   "outputs": [
    {
     "data": {
      "text/html": [
       "<p>To authorize access needed by Earth Engine, open the following\n",
       "        URL in a web browser and follow the instructions:</p>\n",
       "        <p><a href=https://code.earthengine.google.com/client-auth?scopes=https%3A//www.googleapis.com/auth/earthengine%20https%3A//www.googleapis.com/auth/devstorage.full_control&request_id=Dr93hkR9KMRngSwseB5zGU75iRxb3BIzDWzeYP1ArDM&tc=GTnDPGNcsh5Dw8S2LcqnddGb0Hgs4vPngG0eU237Jmk&cc=rdocM5PnTRIK6egQZOMgpbuIm46tkTF3N4svnOQtY7A>https://code.earthengine.google.com/client-auth?scopes=https%3A//www.googleapis.com/auth/earthengine%20https%3A//www.googleapis.com/auth/devstorage.full_control&request_id=Dr93hkR9KMRngSwseB5zGU75iRxb3BIzDWzeYP1ArDM&tc=GTnDPGNcsh5Dw8S2LcqnddGb0Hgs4vPngG0eU237Jmk&cc=rdocM5PnTRIK6egQZOMgpbuIm46tkTF3N4svnOQtY7A</a></p>\n",
       "        <p>The authorization workflow will generate a code, which you should paste in the box below.</p>\n",
       "        "
      ],
      "text/plain": [
       "<IPython.core.display.HTML object>"
      ]
     },
     "metadata": {},
     "output_type": "display_data"
    },
    {
     "name": "stdin",
     "output_type": "stream",
     "text": [
      "Enter verification code:  4/1AeaYSHDSp194NXdiMr2T3UrvBbDLYJIaHET1QfB4dn2QHzNs-OGldqMOlfM\n"
     ]
    },
    {
     "name": "stdout",
     "output_type": "stream",
     "text": [
      "\n",
      "Successfully saved authorization token.\n"
     ]
    }
   ],
   "source": [
    "ee.Authenticate()\n",
    "ee.Initialize()"
   ]
  },
  {
   "cell_type": "code",
   "execution_count": 19,
   "id": "078dcf00-d90a-468c-b639-eb84c2d28981",
   "metadata": {},
   "outputs": [],
   "source": [
    "#import shapefile\n",
    "ke_boundary = ee.FeatureCollection(\"projects/connect-gaea/assets/gadm41_KEN_0\")\n",
    "\n",
    "# Get the geometry\n",
    "geometry = ke_boundary.geometry()\n"
   ]
  },
  {
   "cell_type": "raw",
   "id": "1b15893d-35e1-4dad-80ba-96639e95b58e",
   "metadata": {},
   "source": [
    "# Calculate NDVI function\n",
    "def calculate_ndvi(image):\n",
    "    return image.normalizedDifference(['B8', 'B4']).rename('NDVI')"
   ]
  },
  {
   "cell_type": "code",
   "execution_count": 20,
   "id": "ed0107e8-f2ac-4f1b-8db1-15755bb597a9",
   "metadata": {},
   "outputs": [],
   "source": [
    "def getNDVI(image):\n",
    "    \n",
    "    # Normalized difference vegetation index (NDVI)\n",
    "    ndvi = image.normalizedDifference(['B8','B4']).rename(\"NDVI\")\n",
    "    image = image.addBands(ndvi)\n",
    "\n",
    "    return(image)"
   ]
  },
  {
   "cell_type": "code",
   "execution_count": 21,
   "id": "17825b97-b457-4c4a-8333-9004f454f681",
   "metadata": {},
   "outputs": [],
   "source": [
    "def addDate(image):\n",
    "    img_date = ee.Date(image.date())\n",
    "    img_date = ee.Number.parse(img_date.format('YYYYMMdd'))\n",
    "    return image.addBands(ee.Image(img_date).rename('date').toInt())"
   ]
  },
  {
   "cell_type": "code",
   "execution_count": 28,
   "id": "921207be-0746-4da9-bcf2-be98f109427d",
   "metadata": {},
   "outputs": [],
   "source": [
    "Sentinel_data = ee.ImageCollection('COPERNICUS/S2').filterDate(\"2023-12-01\",\"2023-12-31\").filterBounds(ke_boundary) \\\n",
    "    .map(getNDVI).map(addDate).median()"
   ]
  },
  {
   "cell_type": "code",
   "execution_count": 29,
   "id": "3ae00414-7d99-4537-8d62-2f4e1ffd62b8",
   "metadata": {},
   "outputs": [],
   "source": [
    "color = ['red', 'yellow', 'green']\n",
    "pallete = {\"min\":-1, \"max\":1, 'palette':color}"
   ]
  },
  {
   "cell_type": "code",
   "execution_count": 30,
   "id": "3e11ff54-b2a6-4e6f-9a1b-76e3d733ec1d",
   "metadata": {},
   "outputs": [
    {
     "data": {
      "application/vnd.jupyter.widget-view+json": {
       "model_id": "06b4ed870e644ac4bf99fccb84ed01dc",
       "version_major": 2,
       "version_minor": 0
      },
      "text/plain": [
       "Map(center=[0.5524335862141333, 37.84581141226501], controls=(WidgetControl(options=['position', 'transparent_…"
      ]
     },
     "execution_count": 30,
     "metadata": {},
     "output_type": "execute_result"
    }
   ],
   "source": [
    "# initialize our map\n",
    "map1 = geemap.Map()\n",
    "map1.centerObject(ke_boundary, 8)\n",
    "map1.addLayer(Sentinel_data.clip(ke_boundary).select('NDVI'), pallete, \"NDVI\")\n",
    "\n",
    "map1.addLayerControl()\n",
    "map1\n"
   ]
  },
  {
   "cell_type": "code",
   "execution_count": 31,
   "id": "e1cc853e-7ec2-4a1c-a447-da1382eb6e08",
   "metadata": {},
   "outputs": [],
   "source": [
    "task = ee.batch.Export.image.toDrive(\n",
    "    image=Sentinel_data,\n",
    "    description='NDVI_export',  # Specify a description\n",
    "    folder='NDVI',  # Specify your Google Drive folder\n",
    "    scale=30,  # Adjust scale as needed\n",
    "    region=ke_boundary.geometry().bounds(),  # Define the region of interest\n",
    "    fileFormat='GeoTIFF'\n",
    ")\n",
    "task.start()\n"
   ]
  },
  {
   "cell_type": "code",
   "execution_count": null,
   "id": "8edb65f6-fb15-49ea-8c0f-4efab7f0b3e9",
   "metadata": {},
   "outputs": [],
   "source": []
  },
  {
   "cell_type": "code",
   "execution_count": null,
   "id": "363c129a-7e43-4498-b25f-6331dfaf7afd",
   "metadata": {},
   "outputs": [],
   "source": []
  }
 ],
 "metadata": {
  "kernelspec": {
   "display_name": "Python 3 (ipykernel)",
   "language": "python",
   "name": "python3"
  },
  "language_info": {
   "codemirror_mode": {
    "name": "ipython",
    "version": 3
   },
   "file_extension": ".py",
   "mimetype": "text/x-python",
   "name": "python",
   "nbconvert_exporter": "python",
   "pygments_lexer": "ipython3",
   "version": "3.12.2"
  }
 },
 "nbformat": 4,
 "nbformat_minor": 5
}
