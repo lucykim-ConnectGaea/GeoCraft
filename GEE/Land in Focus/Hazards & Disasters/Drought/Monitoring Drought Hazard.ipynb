{
 "cells": [
  {
   "cell_type": "code",
   "execution_count": 1,
   "id": "811e47e4-0734-4323-8714-ecfa38cf9240",
   "metadata": {},
   "outputs": [],
   "source": [
    "import ee\n",
    "import geemap\n",
    "import pandas as pd\n",
    "import altair as alt\n",
    "import numpy as np\n",
    "import folium\n",
    "import matplotlib.pyplot as plt\n",
    "\n",
    "\n",
    "# Initialize the Earth Engine API\n",
    "ee.Initialize()\n"
   ]
  },
  {
   "cell_type": "code",
   "execution_count": 2,
   "id": "6972353b-672a-41df-930c-3b6f80cbd1ab",
   "metadata": {},
   "outputs": [
    {
     "data": {
      "text/html": [
       "\n",
       "            <style>\n",
       "                .geemap-dark {\n",
       "                    --jp-widgets-color: white;\n",
       "                    --jp-widgets-label-color: white;\n",
       "                    --jp-ui-font-color1: white;\n",
       "                    --jp-layout-color2: #454545;\n",
       "                    background-color: #383838;\n",
       "                }\n",
       "\n",
       "                .geemap-dark .jupyter-button {\n",
       "                    --jp-layout-color3: #383838;\n",
       "                }\n",
       "\n",
       "                .geemap-colab {\n",
       "                    background-color: var(--colab-primary-surface-color, white);\n",
       "                }\n",
       "\n",
       "                .geemap-colab .jupyter-button {\n",
       "                    --jp-layout-color3: var(--colab-primary-surface-color, white);\n",
       "                }\n",
       "            </style>\n",
       "            "
      ],
      "text/plain": [
       "<IPython.core.display.HTML object>"
      ]
     },
     "metadata": {},
     "output_type": "display_data"
    }
   ],
   "source": [
    "#define aoi\n",
    "#AOI = ee.FeatureCollection(\"projects/connect-gaea/assets/meru_county\").geometry()\n",
    "BOUNDARIES_ID = 'FAO/GAUL/2015/level1'\n",
    "#import\n",
    "rift = ee.FeatureCollection(BOUNDARIES_ID).filter(\n",
    "    'ADM0_NAME == \"Kenya\" && '\n",
    "    'ADM1_NAME == \"Rift Valley\"'\n",
    ")\n",
    "\n",
    "AOI = rift.geometry()\n",
    "\n"
   ]
  },
  {
   "cell_type": "code",
   "execution_count": 3,
   "id": "8707787a-bd95-4b12-bd4c-c2c9252e7d55",
   "metadata": {},
   "outputs": [
    {
     "data": {
      "text/html": [
       "\n",
       "            <style>\n",
       "                .geemap-dark {\n",
       "                    --jp-widgets-color: white;\n",
       "                    --jp-widgets-label-color: white;\n",
       "                    --jp-ui-font-color1: white;\n",
       "                    --jp-layout-color2: #454545;\n",
       "                    background-color: #383838;\n",
       "                }\n",
       "\n",
       "                .geemap-dark .jupyter-button {\n",
       "                    --jp-layout-color3: #383838;\n",
       "                }\n",
       "\n",
       "                .geemap-colab {\n",
       "                    background-color: var(--colab-primary-surface-color, white);\n",
       "                }\n",
       "\n",
       "                .geemap-colab .jupyter-button {\n",
       "                    --jp-layout-color3: var(--colab-primary-surface-color, white);\n",
       "                }\n",
       "            </style>\n",
       "            "
      ],
      "text/plain": [
       "<IPython.core.display.HTML object>"
      ]
     },
     "metadata": {},
     "output_type": "display_data"
    }
   ],
   "source": [
    "start_date = ee.Date('2021-01-01')\n",
    "end_date = ee.Date('2021-07-01')"
   ]
  },
  {
   "cell_type": "code",
   "execution_count": 4,
   "id": "ef63ac27-a512-4235-a1ea-8eeae23fb67f",
   "metadata": {},
   "outputs": [
    {
     "data": {
      "text/html": [
       "\n",
       "            <style>\n",
       "                .geemap-dark {\n",
       "                    --jp-widgets-color: white;\n",
       "                    --jp-widgets-label-color: white;\n",
       "                    --jp-ui-font-color1: white;\n",
       "                    --jp-layout-color2: #454545;\n",
       "                    background-color: #383838;\n",
       "                }\n",
       "\n",
       "                .geemap-dark .jupyter-button {\n",
       "                    --jp-layout-color3: #383838;\n",
       "                }\n",
       "\n",
       "                .geemap-colab {\n",
       "                    background-color: var(--colab-primary-surface-color, white);\n",
       "                }\n",
       "\n",
       "                .geemap-colab .jupyter-button {\n",
       "                    --jp-layout-color3: var(--colab-primary-surface-color, white);\n",
       "                }\n",
       "            </style>\n",
       "            "
      ],
      "text/plain": [
       "<IPython.core.display.HTML object>"
      ]
     },
     "metadata": {},
     "output_type": "display_data"
    }
   ],
   "source": [
    "#clipping function\n",
    "def clip_img(img):\n",
    "    return img.clip(AOI)\n",
    "\n",
    "#chirps data\n",
    "imgCol = ee.ImageCollection(\"UCSB-CHG/CHIRPS/DAILY\").map(clip_img)"
   ]
  },
  {
   "cell_type": "raw",
   "id": "2baabdd1-486c-4ae1-b094-3835e9ee2940",
   "metadata": {},
   "source": [
    "# Import CHIRPS data\n",
    "imgCol = ee.ImageCollection(\"UCSB-CHG/CHIRPS/DAILY\").map(lambda img: img.clip(AOI))\n"
   ]
  },
  {
   "cell_type": "code",
   "execution_count": 5,
   "id": "2d82a7af-b512-4592-8d56-2227b0f84a46",
   "metadata": {},
   "outputs": [
    {
     "data": {
      "text/html": [
       "\n",
       "            <style>\n",
       "                .geemap-dark {\n",
       "                    --jp-widgets-color: white;\n",
       "                    --jp-widgets-label-color: white;\n",
       "                    --jp-ui-font-color1: white;\n",
       "                    --jp-layout-color2: #454545;\n",
       "                    background-color: #383838;\n",
       "                }\n",
       "\n",
       "                .geemap-dark .jupyter-button {\n",
       "                    --jp-layout-color3: #383838;\n",
       "                }\n",
       "\n",
       "                .geemap-colab {\n",
       "                    background-color: var(--colab-primary-surface-color, white);\n",
       "                }\n",
       "\n",
       "                .geemap-colab .jupyter-button {\n",
       "                    --jp-layout-color3: var(--colab-primary-surface-color, white);\n",
       "                }\n",
       "            </style>\n",
       "            "
      ],
      "text/plain": [
       "<IPython.core.display.HTML object>"
      ]
     },
     "metadata": {},
     "output_type": "display_data"
    }
   ],
   "source": [
    "# Calculate the sum of precipitation during the defined timeframe\n",
    "pr_sum = imgCol.filterDate(start_date, end_date).sum().set({\n",
    "    'system:time_start': start_date.millis(),\n",
    "    'system:time_end': end_date.advance(-1, 'day').millis()\n",
    "})\n"
   ]
  },
  {
   "cell_type": "code",
   "execution_count": 6,
   "id": "6fa05cb6-a4e4-46d8-a3c7-ba018b4de9db",
   "metadata": {},
   "outputs": [
    {
     "data": {
      "text/html": [
       "\n",
       "            <style>\n",
       "                .geemap-dark {\n",
       "                    --jp-widgets-color: white;\n",
       "                    --jp-widgets-label-color: white;\n",
       "                    --jp-ui-font-color1: white;\n",
       "                    --jp-layout-color2: #454545;\n",
       "                    background-color: #383838;\n",
       "                }\n",
       "\n",
       "                .geemap-dark .jupyter-button {\n",
       "                    --jp-layout-color3: #383838;\n",
       "                }\n",
       "\n",
       "                .geemap-colab {\n",
       "                    background-color: var(--colab-primary-surface-color, white);\n",
       "                }\n",
       "\n",
       "                .geemap-colab .jupyter-button {\n",
       "                    --jp-layout-color3: var(--colab-primary-surface-color, white);\n",
       "                }\n",
       "            </style>\n",
       "            "
      ],
      "text/plain": [
       "<IPython.core.display.HTML object>"
      ]
     },
     "metadata": {},
     "output_type": "display_data"
    },
    {
     "name": "stdout",
     "output_type": "stream",
     "text": [
      "No. of days: 181\n",
      "Month of start date: 1\n",
      "Day of start date: 1\n",
      "year list: [1981, 1982, 1983, 1984, 1985, 1986, 1987, 1988, 1989, 1990, 1991, 1992, 1993, 1994, 1995, 1996, 1997, 1998, 1999, 2000, 2001, 2002, 2003, 2004, 2005, 2006, 2007, 2008, 2009, 2010, 2011, 2012, 2013, 2014, 2015, 2016, 2017, 2018, 2019, 2020, 2021, 2022]\n",
      "col end: 2022\n",
      "col start: 1981\n"
     ]
    }
   ],
   "source": [
    "# Calculate the number of days in the timeframe\n",
    "dif_days = end_date.difference(start_date, 'day')\n",
    "print('No. of days:' ,dif_days.getInfo())\n",
    "\n",
    "# Get the month and day of the start date\n",
    "start_month = start_date.get('month').getInfo()\n",
    "start_day = start_date.get('day').getInfo()\n",
    "print('Month of start date:', start_month)\n",
    "print('Day of start date:', start_day)\n",
    "\n",
    "# Get a list of all years for which CHIRPS data exists\n",
    "col_start_year = ee.Date(ee.List(imgCol.get('date_range')).get(0)).get('year')\n",
    "col_end_year = ee.Date(ee.List(imgCol.get('date_range')).get(1)).get('year')\n",
    "year_list = ee.List.sequence(col_start_year, col_end_year, 1)\n",
    "\n",
    "print('year list:', year_list.getInfo())\n",
    "print('col end:', col_end_year.getInfo())\n",
    "print('col start:', col_start_year.getInfo())\n",
    "\n"
   ]
  },
  {
   "cell_type": "code",
   "execution_count": 7,
   "id": "10ab8b20-8fd8-4ad5-bfba-16428479a98a",
   "metadata": {},
   "outputs": [
    {
     "data": {
      "text/html": [
       "\n",
       "            <style>\n",
       "                .geemap-dark {\n",
       "                    --jp-widgets-color: white;\n",
       "                    --jp-widgets-label-color: white;\n",
       "                    --jp-ui-font-color1: white;\n",
       "                    --jp-layout-color2: #454545;\n",
       "                    background-color: #383838;\n",
       "                }\n",
       "\n",
       "                .geemap-dark .jupyter-button {\n",
       "                    --jp-layout-color3: #383838;\n",
       "                }\n",
       "\n",
       "                .geemap-colab {\n",
       "                    background-color: var(--colab-primary-surface-color, white);\n",
       "                }\n",
       "\n",
       "                .geemap-colab .jupyter-button {\n",
       "                    --jp-layout-color3: var(--colab-primary-surface-color, white);\n",
       "                }\n",
       "            </style>\n",
       "            "
      ],
      "text/plain": [
       "<IPython.core.display.HTML object>"
      ]
     },
     "metadata": {},
     "output_type": "display_data"
    },
    {
     "name": "stdout",
     "output_type": "stream",
     "text": [
      "{'type': 'Image', 'bands': [{'id': 'precipitation', 'data_type': {'type': 'PixelType', 'precision': 'double'}, 'crs': 'EPSG:4326', 'crs_transform': [1, 0, 0, 0, 1, 0]}]}\n"
     ]
    }
   ],
   "source": [
    "# Define a function to calculate the precipitation sum for each year\n",
    "def calc_pr_sum(year):\n",
    "    start = ee.Date.fromYMD(year, start_month, start_day)  # Create the start date\n",
    "    end = start.advance(dif_days, 'day')  # Create the end date\n",
    "    filt_size = imgCol.filterDate(start, end).size()\n",
    "    filt_pr_sum = imgCol.filterDate(start, end).sum()\n",
    "    # Only return the summed precipitation image if there was an image for each day within the desired timeframe\n",
    "    return ee.Algorithms.If(filt_size.eq(dif_days), filt_pr_sum)\n",
    "\n",
    "# Calculate the long term mean for the defined timeframe\n",
    "hist_pr_mean = ee.ImageCollection.fromImages(year_list.map(calc_pr_sum)).mean()\n",
    "\n",
    "# Print the result (for demonstration purposes)\n",
    "print(hist_pr_mean.getInfo())"
   ]
  },
  {
   "cell_type": "raw",
   "id": "b0f3cd07-10e7-40a7-9b00-2f8549336fbf",
   "metadata": {},
   "source": [
    "# Calculate the long term mean\n",
    "def get_yearly_sum(year):\n",
    "    year = ee.Date.fromYMD(ee.Number(year), start_month, start_day)\n",
    "    end = year.advance(dif_days, 'day')\n",
    "    return imgCol.filterDate(year, end).sum()\n",
    "\n",
    "hist_pr_mean = ee.ImageCollection.fromImages(year_list.map(get_yearly_sum)).mean()\n",
    "# Print the result \n",
    "print(hist_pr_mean.getInfo())\n"
   ]
  },
  {
   "cell_type": "code",
   "execution_count": 8,
   "id": "ea9d2181-970b-4404-949b-eb901936e6ec",
   "metadata": {},
   "outputs": [
    {
     "data": {
      "text/html": [
       "\n",
       "            <style>\n",
       "                .geemap-dark {\n",
       "                    --jp-widgets-color: white;\n",
       "                    --jp-widgets-label-color: white;\n",
       "                    --jp-ui-font-color1: white;\n",
       "                    --jp-layout-color2: #454545;\n",
       "                    background-color: #383838;\n",
       "                }\n",
       "\n",
       "                .geemap-dark .jupyter-button {\n",
       "                    --jp-layout-color3: #383838;\n",
       "                }\n",
       "\n",
       "                .geemap-colab {\n",
       "                    background-color: var(--colab-primary-surface-color, white);\n",
       "                }\n",
       "\n",
       "                .geemap-colab .jupyter-button {\n",
       "                    --jp-layout-color3: var(--colab-primary-surface-color, white);\n",
       "                }\n",
       "            </style>\n",
       "            "
      ],
      "text/plain": [
       "<IPython.core.display.HTML object>"
      ]
     },
     "metadata": {},
     "output_type": "display_data"
    }
   ],
   "source": [
    "# Calculate the difference between the precipitation sum and the long term mean\n",
    "pr_anomaly = pr_sum.subtract(hist_pr_mean)\n"
   ]
  },
  {
   "cell_type": "code",
   "execution_count": 9,
   "id": "ba6d410a-9531-45bb-a9e2-7512495f9e6e",
   "metadata": {},
   "outputs": [
    {
     "data": {
      "text/html": [
       "\n",
       "            <style>\n",
       "                .geemap-dark {\n",
       "                    --jp-widgets-color: white;\n",
       "                    --jp-widgets-label-color: white;\n",
       "                    --jp-ui-font-color1: white;\n",
       "                    --jp-layout-color2: #454545;\n",
       "                    background-color: #383838;\n",
       "                }\n",
       "\n",
       "                .geemap-dark .jupyter-button {\n",
       "                    --jp-layout-color3: #383838;\n",
       "                }\n",
       "\n",
       "                .geemap-colab {\n",
       "                    background-color: var(--colab-primary-surface-color, white);\n",
       "                }\n",
       "\n",
       "                .geemap-colab .jupyter-button {\n",
       "                    --jp-layout-color3: var(--colab-primary-surface-color, white);\n",
       "                }\n",
       "            </style>\n",
       "            "
      ],
      "text/plain": [
       "<IPython.core.display.HTML object>"
      ]
     },
     "metadata": {},
     "output_type": "display_data"
    },
    {
     "data": {
      "application/vnd.jupyter.widget-view+json": {
       "model_id": "588f394c6605405c8fa3df6d82c3cdd4",
       "version_major": 2,
       "version_minor": 0
      },
      "text/plain": [
       "Map(center=[1.0888949489012338, 35.95937986968731], controls=(WidgetControl(options=['position', 'transparent_…"
      ]
     },
     "execution_count": 9,
     "metadata": {},
     "output_type": "execute_result"
    }
   ],
   "source": [
    "# Visualization parameters\n",
    "vis_params = {\n",
    "    'min': -300,\n",
    "    'max': 300,\n",
    "    'palette': ['d53e4f', 'fc8d59', 'fee08b', 'ffffbf', 'e6f598', '99d594', '3288bd']\n",
    "}\n",
    "\n",
    "# Create a map\n",
    "Map = geemap.Map()\n",
    "\n",
    "# Add layers to the map\n",
    "Map.addLayer(pr_anomaly, vis_params, 'Precipitation anomaly')\n",
    "Map.centerObject(AOI, 5)\n",
    "\n",
    "Map.add_colorbar(\n",
    "    vis_params, \n",
    "    label=\"Precipitation Anomaly\", \n",
    "    layer_name=\"Anomaly\", \n",
    "    orientation=\"vertical\",\n",
    "    transparent_bg=True\n",
    ")\n",
    "\n",
    "# Display the map\n",
    "Map\n"
   ]
  },
  {
   "cell_type": "code",
   "execution_count": 10,
   "id": "963f5d20-0c09-4341-9fda-1bf16210a866",
   "metadata": {},
   "outputs": [
    {
     "data": {
      "text/html": [
       "\n",
       "            <style>\n",
       "                .geemap-dark {\n",
       "                    --jp-widgets-color: white;\n",
       "                    --jp-widgets-label-color: white;\n",
       "                    --jp-ui-font-color1: white;\n",
       "                    --jp-layout-color2: #454545;\n",
       "                    background-color: #383838;\n",
       "                }\n",
       "\n",
       "                .geemap-dark .jupyter-button {\n",
       "                    --jp-layout-color3: #383838;\n",
       "                }\n",
       "\n",
       "                .geemap-colab {\n",
       "                    background-color: var(--colab-primary-surface-color, white);\n",
       "                }\n",
       "\n",
       "                .geemap-colab .jupyter-button {\n",
       "                    --jp-layout-color3: var(--colab-primary-surface-color, white);\n",
       "                }\n",
       "            </style>\n",
       "            "
      ],
      "text/plain": [
       "<IPython.core.display.HTML object>"
      ]
     },
     "metadata": {},
     "output_type": "display_data"
    }
   ],
   "source": [
    "# Calculate the total monthly precipitation\n",
    "col_start_date = ee.Date(ee.List(imgCol.get('date_range')).get(0))\n",
    "col_end_date = ee.Date(ee.List(imgCol.get('date_range')).get(1))\n",
    "dif_months = col_end_date.difference(col_start_date, 'month')\n",
    "list_month = ee.List.sequence(0, dif_months, 1)\n",
    "def get_monthly_sum(month):\n",
    "    start = col_start_date.advance(month, 'month')\n",
    "    end = start.advance(1, 'month')\n",
    "    return imgCol.filterDate(start, end).sum().set({\n",
    "        'system:time_start': start.millis(),\n",
    "        'system:time_end': end.advance(-1, 'day').millis()\n",
    "    })\n",
    "\n",
    "monthly_pr_sum = ee.ImageCollection.fromImages(list_month.map(get_monthly_sum))"
   ]
  },
  {
   "cell_type": "code",
   "execution_count": 11,
   "id": "2e5d53de-cd39-4879-8999-b02b7466aefe",
   "metadata": {},
   "outputs": [
    {
     "data": {
      "text/html": [
       "\n",
       "            <style>\n",
       "                .geemap-dark {\n",
       "                    --jp-widgets-color: white;\n",
       "                    --jp-widgets-label-color: white;\n",
       "                    --jp-ui-font-color1: white;\n",
       "                    --jp-layout-color2: #454545;\n",
       "                    background-color: #383838;\n",
       "                }\n",
       "\n",
       "                .geemap-dark .jupyter-button {\n",
       "                    --jp-layout-color3: #383838;\n",
       "                }\n",
       "\n",
       "                .geemap-colab {\n",
       "                    background-color: var(--colab-primary-surface-color, white);\n",
       "                }\n",
       "\n",
       "                .geemap-colab .jupyter-button {\n",
       "                    --jp-layout-color3: var(--colab-primary-surface-color, white);\n",
       "                }\n",
       "            </style>\n",
       "            "
      ],
      "text/plain": [
       "<IPython.core.display.HTML object>"
      ]
     },
     "metadata": {},
     "output_type": "display_data"
    },
    {
     "name": "stdout",
     "output_type": "stream",
     "text": [
      "Number of images in the collection: 494\n"
     ]
    }
   ],
   "source": [
    "# Check the number of images in the Image Collection\n",
    "num_images = monthly_pr_sum.size()\n",
    "\n",
    "# Print the number of images\n",
    "print(\"Number of images in the collection:\", num_images.getInfo())\n"
   ]
  },
  {
   "cell_type": "code",
   "execution_count": 19,
   "id": "6ae8708f-4bde-4b98-bedb-ebed38592ff4",
   "metadata": {},
   "outputs": [
    {
     "data": {
      "text/html": [
       "\n",
       "            <style>\n",
       "                .geemap-dark {\n",
       "                    --jp-widgets-color: white;\n",
       "                    --jp-widgets-label-color: white;\n",
       "                    --jp-ui-font-color1: white;\n",
       "                    --jp-layout-color2: #454545;\n",
       "                    background-color: #383838;\n",
       "                }\n",
       "\n",
       "                .geemap-dark .jupyter-button {\n",
       "                    --jp-layout-color3: #383838;\n",
       "                }\n",
       "\n",
       "                .geemap-colab {\n",
       "                    background-color: var(--colab-primary-surface-color, white);\n",
       "                }\n",
       "\n",
       "                .geemap-colab .jupyter-button {\n",
       "                    --jp-layout-color3: var(--colab-primary-surface-color, white);\n",
       "                }\n",
       "            </style>\n",
       "            "
      ],
      "text/plain": [
       "<IPython.core.display.HTML object>"
      ]
     },
     "metadata": {},
     "output_type": "display_data"
    }
   ],
   "source": [
    "# Calculate the total monthly precipitation\n",
    "col_start_date = ee.Date(ee.List(imgCol.get('date_range')).get(0))\n",
    "col_end_date = ee.Date(ee.List(imgCol.get('date_range')).get(1))\n",
    "dif_months = col_end_date.difference(col_start_date, 'month')\n",
    "list_month = ee.List.sequence(0, dif_months, 1)\n",
    "\n",
    "def get_monthly_sum(month):\n",
    "    start = col_start_date.advance(month, 'month')\n",
    "    end = start.advance(1, 'month')\n",
    "    return imgCol.filterDate(start, end).sum().set({\n",
    "        'system:time_start': start.millis(),\n",
    "        'system:time_end': end.advance(-1, 'day').millis()\n",
    "    })\n",
    "\n",
    "monthly_pr_sum = ee.ImageCollection.fromImages(list_month.map(get_monthly_sum))\n"
   ]
  },
  {
   "cell_type": "code",
   "execution_count": 21,
   "id": "caa62e76-a7a9-42b8-9e3b-6d1e8311bfc2",
   "metadata": {},
   "outputs": [
    {
     "data": {
      "text/html": [
       "\n",
       "            <style>\n",
       "                .geemap-dark {\n",
       "                    --jp-widgets-color: white;\n",
       "                    --jp-widgets-label-color: white;\n",
       "                    --jp-ui-font-color1: white;\n",
       "                    --jp-layout-color2: #454545;\n",
       "                    background-color: #383838;\n",
       "                }\n",
       "\n",
       "                .geemap-dark .jupyter-button {\n",
       "                    --jp-layout-color3: #383838;\n",
       "                }\n",
       "\n",
       "                .geemap-colab {\n",
       "                    background-color: var(--colab-primary-surface-color, white);\n",
       "                }\n",
       "\n",
       "                .geemap-colab .jupyter-button {\n",
       "                    --jp-layout-color3: var(--colab-primary-surface-color, white);\n",
       "                }\n",
       "            </style>\n",
       "            "
      ],
      "text/plain": [
       "<IPython.core.display.HTML object>"
      ]
     },
     "metadata": {},
     "output_type": "display_data"
    }
   ],
   "source": [
    "# Calculate the total monthly precipitation\n",
    "col_start_date = ee.Date(ee.List(imgCol.get('date_range')).get(0))\n",
    "col_end_date = ee.Date(ee.List(imgCol.get('date_range')).get(1))\n",
    "dif_months = col_end_date.difference(col_start_date, 'month')\n",
    "list_month = ee.List.sequence(0, dif_months, 1)\n",
    "\n",
    "def get_monthly_sum(month):\n",
    "    start = col_start_date.advance(month, 'month')\n",
    "    end = start.advance(1, 'month')\n",
    "    monthly_precip = imgCol.filterDate(start, end).sum().set({\n",
    "        'system:time_start': start.millis(),\n",
    "        'system:time_end': end.advance(-1, 'day').millis()\n",
    "    })\n",
    "    # Reduce to region to get the mean precipitation value over AOI\n",
    "    mean_precip = monthly_precip.reduceRegion(\n",
    "        reducer=ee.Reducer.mean(),\n",
    "        geometry=AOI,\n",
    "        scale=5000\n",
    "    )\n",
    "    return ee.Feature(None, {\n",
    "        'date': start.format('YYYY-MM'),\n",
    "        'precipitation': mean_precip.get('precipitation')\n",
    "    })\n",
    "\n",
    "monthly_features = list_month.map(get_monthly_sum)\n",
    "monthly_fc = ee.FeatureCollection(monthly_features)\n"
   ]
  },
  {
   "cell_type": "code",
   "execution_count": 22,
   "id": "0e01959f-09e1-469d-8df0-43190978d07a",
   "metadata": {},
   "outputs": [
    {
     "data": {
      "text/html": [
       "\n",
       "            <style>\n",
       "                .geemap-dark {\n",
       "                    --jp-widgets-color: white;\n",
       "                    --jp-widgets-label-color: white;\n",
       "                    --jp-ui-font-color1: white;\n",
       "                    --jp-layout-color2: #454545;\n",
       "                    background-color: #383838;\n",
       "                }\n",
       "\n",
       "                .geemap-dark .jupyter-button {\n",
       "                    --jp-layout-color3: #383838;\n",
       "                }\n",
       "\n",
       "                .geemap-colab {\n",
       "                    background-color: var(--colab-primary-surface-color, white);\n",
       "                }\n",
       "\n",
       "                .geemap-colab .jupyter-button {\n",
       "                    --jp-layout-color3: var(--colab-primary-surface-color, white);\n",
       "                }\n",
       "            </style>\n",
       "            "
      ],
      "text/plain": [
       "<IPython.core.display.HTML object>"
      ]
     },
     "metadata": {},
     "output_type": "display_data"
    }
   ],
   "source": [
    "# Extract data to a Pandas DataFrame\n",
    "features = monthly_fc.getInfo()['features']\n",
    "\n",
    "# Convert the features to a DataFrame\n",
    "data = []\n",
    "for feature in features:\n",
    "    properties = feature['properties']\n",
    "    data.append([properties['date'], properties['precipitation']])\n",
    "df = pd.DataFrame(data, columns=['date', 'precipitation'])\n",
    "df['date'] = pd.to_datetime(df['date'])\n"
   ]
  },
  {
   "cell_type": "code",
   "execution_count": 23,
   "id": "abc40be8-f0f6-4b7c-b4e5-2db023b7134b",
   "metadata": {},
   "outputs": [
    {
     "data": {
      "text/html": [
       "\n",
       "            <style>\n",
       "                .geemap-dark {\n",
       "                    --jp-widgets-color: white;\n",
       "                    --jp-widgets-label-color: white;\n",
       "                    --jp-ui-font-color1: white;\n",
       "                    --jp-layout-color2: #454545;\n",
       "                    background-color: #383838;\n",
       "                }\n",
       "\n",
       "                .geemap-dark .jupyter-button {\n",
       "                    --jp-layout-color3: #383838;\n",
       "                }\n",
       "\n",
       "                .geemap-colab {\n",
       "                    background-color: var(--colab-primary-surface-color, white);\n",
       "                }\n",
       "\n",
       "                .geemap-colab .jupyter-button {\n",
       "                    --jp-layout-color3: var(--colab-primary-surface-color, white);\n",
       "                }\n",
       "            </style>\n",
       "            "
      ],
      "text/plain": [
       "<IPython.core.display.HTML object>"
      ]
     },
     "metadata": {},
     "output_type": "display_data"
    },
    {
     "data": {
      "text/html": [
       "\n",
       "<style>\n",
       "  #altair-viz-dda799bdc1b147ba9b5976f894c31114.vega-embed {\n",
       "    width: 100%;\n",
       "    display: flex;\n",
       "  }\n",
       "\n",
       "  #altair-viz-dda799bdc1b147ba9b5976f894c31114.vega-embed details,\n",
       "  #altair-viz-dda799bdc1b147ba9b5976f894c31114.vega-embed details summary {\n",
       "    position: relative;\n",
       "  }\n",
       "</style>\n",
       "<div id=\"altair-viz-dda799bdc1b147ba9b5976f894c31114\"></div>\n",
       "<script type=\"text/javascript\">\n",
       "  var VEGA_DEBUG = (typeof VEGA_DEBUG == \"undefined\") ? {} : VEGA_DEBUG;\n",
       "  (function(spec, embedOpt){\n",
       "    let outputDiv = document.currentScript.previousElementSibling;\n",
       "    if (outputDiv.id !== \"altair-viz-dda799bdc1b147ba9b5976f894c31114\") {\n",
       "      outputDiv = document.getElementById(\"altair-viz-dda799bdc1b147ba9b5976f894c31114\");\n",
       "    }\n",
       "    const paths = {\n",
       "      \"vega\": \"https://cdn.jsdelivr.net/npm/vega@5?noext\",\n",
       "      \"vega-lib\": \"https://cdn.jsdelivr.net/npm/vega-lib?noext\",\n",
       "      \"vega-lite\": \"https://cdn.jsdelivr.net/npm/vega-lite@5.17.0?noext\",\n",
       "      \"vega-embed\": \"https://cdn.jsdelivr.net/npm/vega-embed@6?noext\",\n",
       "    };\n",
       "\n",
       "    function maybeLoadScript(lib, version) {\n",
       "      var key = `${lib.replace(\"-\", \"\")}_version`;\n",
       "      return (VEGA_DEBUG[key] == version) ?\n",
       "        Promise.resolve(paths[lib]) :\n",
       "        new Promise(function(resolve, reject) {\n",
       "          var s = document.createElement('script');\n",
       "          document.getElementsByTagName(\"head\")[0].appendChild(s);\n",
       "          s.async = true;\n",
       "          s.onload = () => {\n",
       "            VEGA_DEBUG[key] = version;\n",
       "            return resolve(paths[lib]);\n",
       "          };\n",
       "          s.onerror = () => reject(`Error loading script: ${paths[lib]}`);\n",
       "          s.src = paths[lib];\n",
       "        });\n",
       "    }\n",
       "\n",
       "    function showError(err) {\n",
       "      outputDiv.innerHTML = `<div class=\"error\" style=\"color:red;\">${err}</div>`;\n",
       "      throw err;\n",
       "    }\n",
       "\n",
       "    function displayChart(vegaEmbed) {\n",
       "      vegaEmbed(outputDiv, spec, embedOpt)\n",
       "        .catch(err => showError(`Javascript Error: ${err.message}<br>This usually means there's a typo in your chart specification. See the javascript console for the full traceback.`));\n",
       "    }\n",
       "\n",
       "    if(typeof define === \"function\" && define.amd) {\n",
       "      requirejs.config({paths});\n",
       "      require([\"vega-embed\"], displayChart, err => showError(`Error loading script: ${err.message}`));\n",
       "    } else {\n",
       "      maybeLoadScript(\"vega\", \"5\")\n",
       "        .then(() => maybeLoadScript(\"vega-lite\", \"5.17.0\"))\n",
       "        .then(() => maybeLoadScript(\"vega-embed\", \"6\"))\n",
       "        .catch(showError)\n",
       "        .then(() => displayChart(vegaEmbed));\n",
       "    }\n",
       "  })({\"config\": {\"view\": {\"continuousWidth\": 300, \"continuousHeight\": 300}}, \"data\": {\"name\": \"data-fbb08280c8f95ec3dc04f51a34ea080f\"}, \"mark\": {\"type\": \"line\", \"point\": true}, \"encoding\": {\"tooltip\": [{\"field\": \"date\", \"type\": \"temporal\"}, {\"field\": \"precipitation\", \"type\": \"quantitative\"}], \"x\": {\"field\": \"date\", \"type\": \"temporal\"}, \"y\": {\"field\": \"precipitation\", \"type\": \"quantitative\"}}, \"height\": 400, \"params\": [{\"name\": \"param_1\", \"select\": {\"type\": \"interval\", \"encodings\": [\"x\", \"y\"]}, \"bind\": \"scales\"}], \"title\": \"Monthly Precipitation\", \"width\": 600, \"$schema\": \"https://vega.github.io/schema/vega-lite/v5.17.0.json\", \"datasets\": {\"data-fbb08280c8f95ec3dc04f51a34ea080f\": [{\"date\": \"1981-01-01T00:00:00\", \"precipitation\": 8.677278530882166}, {\"date\": \"1981-02-01T00:00:00\", \"precipitation\": 21.984518581030915}, {\"date\": \"1981-03-01T00:00:00\", \"precipitation\": 142.32236687042493}, {\"date\": \"1981-04-01T00:00:00\", \"precipitation\": 152.01080470682095}, {\"date\": \"1981-05-01T00:00:00\", \"precipitation\": 64.1012883949994}, {\"date\": \"1981-06-01T00:00:00\", \"precipitation\": 34.99212444571258}, {\"date\": \"1981-07-01T00:00:00\", \"precipitation\": 59.055016170817154}, {\"date\": \"1981-08-01T00:00:00\", \"precipitation\": 58.88312589102575}, {\"date\": \"1981-09-01T00:00:00\", \"precipitation\": 37.332065786947645}, {\"date\": \"1981-10-01T00:00:00\", \"precipitation\": 32.36179761949777}, {\"date\": \"1981-11-01T00:00:00\", \"precipitation\": 29.247634486320134}, {\"date\": \"1981-12-01T00:00:00\", \"precipitation\": 32.430791734504126}, {\"date\": \"1982-01-01T00:00:00\", \"precipitation\": 14.716669124369938}, {\"date\": \"1982-02-01T00:00:00\", \"precipitation\": 22.886385300201653}, {\"date\": \"1982-03-01T00:00:00\", \"precipitation\": 38.95719572224905}, {\"date\": \"1982-04-01T00:00:00\", \"precipitation\": 130.9741653503283}, {\"date\": \"1982-05-01T00:00:00\", \"precipitation\": 89.79531594063857}, {\"date\": \"1982-06-01T00:00:00\", \"precipitation\": 30.508382618765335}, {\"date\": \"1982-07-01T00:00:00\", \"precipitation\": 35.50046377419783}, {\"date\": \"1982-08-01T00:00:00\", \"precipitation\": 48.38628749901953}, {\"date\": \"1982-09-01T00:00:00\", \"precipitation\": 23.544454509041202}, {\"date\": \"1982-10-01T00:00:00\", \"precipitation\": 66.81332582725173}, {\"date\": \"1982-11-01T00:00:00\", \"precipitation\": 131.71543118164465}, {\"date\": \"1982-12-01T00:00:00\", \"precipitation\": 67.27776184731842}, {\"date\": \"1983-01-01T00:00:00\", \"precipitation\": 13.79906719782063}, {\"date\": \"1983-02-01T00:00:00\", \"precipitation\": 36.422624156769125}, {\"date\": \"1983-03-01T00:00:00\", \"precipitation\": 26.848013165683245}, {\"date\": \"1983-04-01T00:00:00\", \"precipitation\": 80.02936027620306}, {\"date\": \"1983-05-01T00:00:00\", \"precipitation\": 55.43060519038911}, {\"date\": \"1983-06-01T00:00:00\", \"precipitation\": 45.49331499199886}, {\"date\": \"1983-07-01T00:00:00\", \"precipitation\": 51.23694061980868}, {\"date\": \"1983-08-01T00:00:00\", \"precipitation\": 91.20815044811592}, {\"date\": \"1983-09-01T00:00:00\", \"precipitation\": 34.34764752476086}, {\"date\": \"1983-10-01T00:00:00\", \"precipitation\": 46.19251755742544}, {\"date\": \"1983-11-01T00:00:00\", \"precipitation\": 43.17089626780819}, {\"date\": \"1983-12-01T00:00:00\", \"precipitation\": 53.77009247164444}, {\"date\": \"1984-01-01T00:00:00\", \"precipitation\": 13.40379432942559}, {\"date\": \"1984-02-01T00:00:00\", \"precipitation\": 11.041745910925037}, {\"date\": \"1984-03-01T00:00:00\", \"precipitation\": 22.123920817738373}, {\"date\": \"1984-04-01T00:00:00\", \"precipitation\": 74.62638980322687}, {\"date\": \"1984-05-01T00:00:00\", \"precipitation\": 19.824517971451073}, {\"date\": \"1984-06-01T00:00:00\", \"precipitation\": 24.78290140275734}, {\"date\": \"1984-07-01T00:00:00\", \"precipitation\": 41.71061809572897}, {\"date\": \"1984-08-01T00:00:00\", \"precipitation\": 32.85172560977734}, {\"date\": \"1984-09-01T00:00:00\", \"precipitation\": 28.382247894095784}, {\"date\": \"1984-10-01T00:00:00\", \"precipitation\": 36.30375932692237}, {\"date\": \"1984-11-01T00:00:00\", \"precipitation\": 73.39202536973364}, {\"date\": \"1984-12-01T00:00:00\", \"precipitation\": 42.42451544450063}, {\"date\": \"1985-01-01T00:00:00\", \"precipitation\": 16.8563677403861}, {\"date\": \"1985-02-01T00:00:00\", \"precipitation\": 42.17185627279744}, {\"date\": \"1985-03-01T00:00:00\", \"precipitation\": 85.5816920875506}, {\"date\": \"1985-04-01T00:00:00\", \"precipitation\": 159.97241967719415}, {\"date\": \"1985-05-01T00:00:00\", \"precipitation\": 77.78843073974865}, {\"date\": \"1985-06-01T00:00:00\", \"precipitation\": 42.152990686628435}, {\"date\": \"1985-07-01T00:00:00\", \"precipitation\": 54.25627785025145}, {\"date\": \"1985-08-01T00:00:00\", \"precipitation\": 34.151955968790915}, {\"date\": \"1985-09-01T00:00:00\", \"precipitation\": 21.52370133239934}, {\"date\": \"1985-10-01T00:00:00\", \"precipitation\": 24.92201088743527}, {\"date\": \"1985-11-01T00:00:00\", \"precipitation\": 62.70959313631814}, {\"date\": \"1985-12-01T00:00:00\", \"precipitation\": 24.305507753991844}, {\"date\": \"1986-01-01T00:00:00\", \"precipitation\": 14.305964409514809}, {\"date\": \"1986-02-01T00:00:00\", \"precipitation\": 10.692138819082254}, {\"date\": \"1986-03-01T00:00:00\", \"precipitation\": 61.22643820554614}, {\"date\": \"1986-04-01T00:00:00\", \"precipitation\": 148.20880992983703}, {\"date\": \"1986-05-01T00:00:00\", \"precipitation\": 59.43847800847236}, {\"date\": \"1986-06-01T00:00:00\", \"precipitation\": 55.99726522298393}, {\"date\": \"1986-07-01T00:00:00\", \"precipitation\": 39.62081889135217}, {\"date\": \"1986-08-01T00:00:00\", \"precipitation\": 35.64869658467881}, {\"date\": \"1986-09-01T00:00:00\", \"precipitation\": 25.065687280567985}, {\"date\": \"1986-10-01T00:00:00\", \"precipitation\": 40.105024798638254}, {\"date\": \"1986-11-01T00:00:00\", \"precipitation\": 51.12078111962142}, {\"date\": \"1986-12-01T00:00:00\", \"precipitation\": 47.90763074337892}, {\"date\": \"1987-01-01T00:00:00\", \"precipitation\": 26.51412325830314}, {\"date\": \"1987-02-01T00:00:00\", \"precipitation\": 27.451166876944143}, {\"date\": \"1987-03-01T00:00:00\", \"precipitation\": 61.032217853371314}, {\"date\": \"1987-04-01T00:00:00\", \"precipitation\": 103.43609738137962}, {\"date\": \"1987-05-01T00:00:00\", \"precipitation\": 90.98341328091975}, {\"date\": \"1987-06-01T00:00:00\", \"precipitation\": 70.33792183886521}, {\"date\": \"1987-07-01T00:00:00\", \"precipitation\": 25.87519451600082}, {\"date\": \"1987-08-01T00:00:00\", \"precipitation\": 34.82733013014389}, {\"date\": \"1987-09-01T00:00:00\", \"precipitation\": 20.82796997683266}, {\"date\": \"1987-10-01T00:00:00\", \"precipitation\": 26.392316493390116}, {\"date\": \"1987-11-01T00:00:00\", \"precipitation\": 64.82786491567155}, {\"date\": \"1987-12-01T00:00:00\", \"precipitation\": 20.783730037804496}, {\"date\": \"1988-01-01T00:00:00\", \"precipitation\": 33.167079429078285}, {\"date\": \"1988-02-01T00:00:00\", \"precipitation\": 15.196690745062739}, {\"date\": \"1988-03-01T00:00:00\", \"precipitation\": 66.71380472536927}, {\"date\": \"1988-04-01T00:00:00\", \"precipitation\": 177.7845212331603}, {\"date\": \"1988-05-01T00:00:00\", \"precipitation\": 53.1779270349852}, {\"date\": \"1988-06-01T00:00:00\", \"precipitation\": 41.816879927611204}, {\"date\": \"1988-07-01T00:00:00\", \"precipitation\": 82.24202390887787}, {\"date\": \"1988-08-01T00:00:00\", \"precipitation\": 56.97507175768039}, {\"date\": \"1988-09-01T00:00:00\", \"precipitation\": 43.29393761691814}, {\"date\": \"1988-10-01T00:00:00\", \"precipitation\": 45.53746684002937}, {\"date\": \"1988-11-01T00:00:00\", \"precipitation\": 41.53418388520371}, {\"date\": \"1988-12-01T00:00:00\", \"precipitation\": 38.47261495143596}, {\"date\": \"1989-01-01T00:00:00\", \"precipitation\": 34.54895253105892}, {\"date\": \"1989-02-01T00:00:00\", \"precipitation\": 38.75864810862977}, {\"date\": \"1989-03-01T00:00:00\", \"precipitation\": 81.20436750945267}, {\"date\": \"1989-04-01T00:00:00\", \"precipitation\": 118.11510750737163}, {\"date\": \"1989-05-01T00:00:00\", \"precipitation\": 84.16055824947225}, {\"date\": \"1989-06-01T00:00:00\", \"precipitation\": 26.633595800589607}, {\"date\": \"1989-07-01T00:00:00\", \"precipitation\": 63.73696069354092}, {\"date\": \"1989-08-01T00:00:00\", \"precipitation\": 44.1931889897736}, {\"date\": \"1989-09-01T00:00:00\", \"precipitation\": 36.28456075481923}, {\"date\": \"1989-10-01T00:00:00\", \"precipitation\": 46.05291420104533}, {\"date\": \"1989-11-01T00:00:00\", \"precipitation\": 64.1182124464665}, {\"date\": \"1989-12-01T00:00:00\", \"precipitation\": 82.15743089753647}, {\"date\": \"1990-01-01T00:00:00\", \"precipitation\": 26.82989846798596}, {\"date\": \"1990-02-01T00:00:00\", \"precipitation\": 69.2746620886964}, {\"date\": \"1990-03-01T00:00:00\", \"precipitation\": 120.72008349402893}, {\"date\": \"1990-04-01T00:00:00\", \"precipitation\": 138.9303337479904}, {\"date\": \"1990-05-01T00:00:00\", \"precipitation\": 56.233073985127525}, {\"date\": \"1990-06-01T00:00:00\", \"precipitation\": 24.582667705602898}, {\"date\": \"1990-07-01T00:00:00\", \"precipitation\": 42.06321938387087}, {\"date\": \"1990-08-01T00:00:00\", \"precipitation\": 38.2858451392223}, {\"date\": \"1990-09-01T00:00:00\", \"precipitation\": 20.441815057397235}, {\"date\": \"1990-10-01T00:00:00\", \"precipitation\": 41.54370669812142}, {\"date\": \"1990-11-01T00:00:00\", \"precipitation\": 46.76308271847351}, {\"date\": \"1990-12-01T00:00:00\", \"precipitation\": 48.705601720197315}, {\"date\": \"1991-01-01T00:00:00\", \"precipitation\": 29.11554957183636}, {\"date\": \"1991-02-01T00:00:00\", \"precipitation\": 9.503592480522089}, {\"date\": \"1991-03-01T00:00:00\", \"precipitation\": 79.16786358894397}, {\"date\": \"1991-04-01T00:00:00\", \"precipitation\": 64.10507699205719}, {\"date\": \"1991-05-01T00:00:00\", \"precipitation\": 84.3111101067692}, {\"date\": \"1991-06-01T00:00:00\", \"precipitation\": 51.519086367143814}, {\"date\": \"1991-07-01T00:00:00\", \"precipitation\": 44.16488196660141}, {\"date\": \"1991-08-01T00:00:00\", \"precipitation\": 56.914046413579044}, {\"date\": \"1991-09-01T00:00:00\", \"precipitation\": 23.620018268412966}, {\"date\": \"1991-10-01T00:00:00\", \"precipitation\": 47.92723518697361}, {\"date\": \"1991-11-01T00:00:00\", \"precipitation\": 43.01448937394104}, {\"date\": \"1991-12-01T00:00:00\", \"precipitation\": 49.53898355323404}, {\"date\": \"1992-01-01T00:00:00\", \"precipitation\": 9.179409822130012}, {\"date\": \"1992-02-01T00:00:00\", \"precipitation\": 20.72060311763011}, {\"date\": \"1992-03-01T00:00:00\", \"precipitation\": 32.83766364674301}, {\"date\": \"1992-04-01T00:00:00\", \"precipitation\": 115.27949569487544}, {\"date\": \"1992-05-01T00:00:00\", \"precipitation\": 50.36486394082516}, {\"date\": \"1992-06-01T00:00:00\", \"precipitation\": 42.14222465353254}, {\"date\": \"1992-07-01T00:00:00\", \"precipitation\": 48.96762156064572}, {\"date\": \"1992-08-01T00:00:00\", \"precipitation\": 45.41718273466208}, {\"date\": \"1992-09-01T00:00:00\", \"precipitation\": 26.161781409501383}, {\"date\": \"1992-10-01T00:00:00\", \"precipitation\": 49.62753355367028}, {\"date\": \"1992-11-01T00:00:00\", \"precipitation\": 50.297021398755525}, {\"date\": \"1992-12-01T00:00:00\", \"precipitation\": 57.374954845391706}, {\"date\": \"1993-01-01T00:00:00\", \"precipitation\": 73.34714056311967}, {\"date\": \"1993-02-01T00:00:00\", \"precipitation\": 57.382513461143844}, {\"date\": \"1993-03-01T00:00:00\", \"precipitation\": 25.10472892837749}, {\"date\": \"1993-04-01T00:00:00\", \"precipitation\": 49.69893133682583}, {\"date\": \"1993-05-01T00:00:00\", \"precipitation\": 94.40923201781978}, {\"date\": \"1993-06-01T00:00:00\", \"precipitation\": 47.661373401873966}, {\"date\": \"1993-07-01T00:00:00\", \"precipitation\": 28.748729061678915}, {\"date\": \"1993-08-01T00:00:00\", \"precipitation\": 31.33043048238982}, {\"date\": \"1993-09-01T00:00:00\", \"precipitation\": 18.34129876076542}, {\"date\": \"1993-10-01T00:00:00\", \"precipitation\": 29.970873928838056}, {\"date\": \"1993-11-01T00:00:00\", \"precipitation\": 42.04313867308045}, {\"date\": \"1993-12-01T00:00:00\", \"precipitation\": 29.075549371797113}, {\"date\": \"1994-01-01T00:00:00\", \"precipitation\": 12.66493586453987}, {\"date\": \"1994-02-01T00:00:00\", \"precipitation\": 24.304381048000185}, {\"date\": \"1994-03-01T00:00:00\", \"precipitation\": 67.91882919715562}, {\"date\": \"1994-04-01T00:00:00\", \"precipitation\": 98.07009089521829}, {\"date\": \"1994-05-01T00:00:00\", \"precipitation\": 75.36225383947806}, {\"date\": \"1994-06-01T00:00:00\", \"precipitation\": 54.57031426844984}, {\"date\": \"1994-07-01T00:00:00\", \"precipitation\": 54.84864878201343}, {\"date\": \"1994-08-01T00:00:00\", \"precipitation\": 60.0422521501408}, {\"date\": \"1994-09-01T00:00:00\", \"precipitation\": 17.527681880963456}, {\"date\": \"1994-10-01T00:00:00\", \"precipitation\": 36.76635009743423}, {\"date\": \"1994-11-01T00:00:00\", \"precipitation\": 97.5781589851891}, {\"date\": \"1994-12-01T00:00:00\", \"precipitation\": 32.49749658991952}, {\"date\": \"1995-01-01T00:00:00\", \"precipitation\": 15.901288964510416}, {\"date\": \"1995-02-01T00:00:00\", \"precipitation\": 38.59352067526794}, {\"date\": \"1995-03-01T00:00:00\", \"precipitation\": 78.37099195654658}, {\"date\": \"1995-04-01T00:00:00\", \"precipitation\": 86.1110281646223}, {\"date\": \"1995-05-01T00:00:00\", \"precipitation\": 57.76478803257262}, {\"date\": \"1995-06-01T00:00:00\", \"precipitation\": 40.90099168987351}, {\"date\": \"1995-07-01T00:00:00\", \"precipitation\": 47.748171053794216}, {\"date\": \"1995-08-01T00:00:00\", \"precipitation\": 34.200022422680725}, {\"date\": \"1995-09-01T00:00:00\", \"precipitation\": 37.54592908584068}, {\"date\": \"1995-10-01T00:00:00\", \"precipitation\": 53.470864526960064}, {\"date\": \"1995-11-01T00:00:00\", \"precipitation\": 45.66010102327782}, {\"date\": \"1995-12-01T00:00:00\", \"precipitation\": 35.11239724811549}, {\"date\": \"1996-01-01T00:00:00\", \"precipitation\": 24.70455144111155}, {\"date\": \"1996-02-01T00:00:00\", \"precipitation\": 34.112061931836095}, {\"date\": \"1996-03-01T00:00:00\", \"precipitation\": 85.07555182963645}, {\"date\": \"1996-04-01T00:00:00\", \"precipitation\": 67.6709312572671}, {\"date\": \"1996-05-01T00:00:00\", \"precipitation\": 50.75197759556463}, {\"date\": \"1996-06-01T00:00:00\", \"precipitation\": 75.95842487789915}, {\"date\": \"1996-07-01T00:00:00\", \"precipitation\": 69.55760229343676}, {\"date\": \"1996-08-01T00:00:00\", \"precipitation\": 63.673912019973095}, {\"date\": \"1996-09-01T00:00:00\", \"precipitation\": 32.949588682729015}, {\"date\": \"1996-10-01T00:00:00\", \"precipitation\": 31.68046286689693}, {\"date\": \"1996-11-01T00:00:00\", \"precipitation\": 57.822505067851054}, {\"date\": \"1996-12-01T00:00:00\", \"precipitation\": 21.275312405259076}, {\"date\": \"1997-01-01T00:00:00\", \"precipitation\": 13.37719226680039}, {\"date\": \"1997-02-01T00:00:00\", \"precipitation\": 5.956924366852993}, {\"date\": \"1997-03-01T00:00:00\", \"precipitation\": 51.46694436232391}, {\"date\": \"1997-04-01T00:00:00\", \"precipitation\": 193.58809105047297}, {\"date\": \"1997-05-01T00:00:00\", \"precipitation\": 54.663159457458526}, {\"date\": \"1997-06-01T00:00:00\", \"precipitation\": 40.47924558041959}, {\"date\": \"1997-07-01T00:00:00\", \"precipitation\": 57.32043489212105}, {\"date\": \"1997-08-01T00:00:00\", \"precipitation\": 47.389715922798956}, {\"date\": \"1997-09-01T00:00:00\", \"precipitation\": 10.710813913583834}, {\"date\": \"1997-10-01T00:00:00\", \"precipitation\": 70.94815181442794}, {\"date\": \"1997-11-01T00:00:00\", \"precipitation\": 157.0467203329038}, {\"date\": \"1997-12-01T00:00:00\", \"precipitation\": 89.30389319354508}, {\"date\": \"1998-01-01T00:00:00\", \"precipitation\": 85.66311541531665}, {\"date\": \"1998-02-01T00:00:00\", \"precipitation\": 57.59714807175806}, {\"date\": \"1998-03-01T00:00:00\", \"precipitation\": 36.904579011174356}, {\"date\": \"1998-04-01T00:00:00\", \"precipitation\": 81.58367580694046}, {\"date\": \"1998-05-01T00:00:00\", \"precipitation\": 111.43691587988744}, {\"date\": \"1998-06-01T00:00:00\", \"precipitation\": 65.33787886397013}, {\"date\": \"1998-07-01T00:00:00\", \"precipitation\": 49.45893806581981}, {\"date\": \"1998-08-01T00:00:00\", \"precipitation\": 50.584210579665736}, {\"date\": \"1998-09-01T00:00:00\", \"precipitation\": 25.65820733852916}, {\"date\": \"1998-10-01T00:00:00\", \"precipitation\": 47.72345872200624}, {\"date\": \"1998-11-01T00:00:00\", \"precipitation\": 41.573600549042325}, {\"date\": \"1998-12-01T00:00:00\", \"precipitation\": 16.944462312872343}, {\"date\": \"1999-01-01T00:00:00\", \"precipitation\": 18.485324025630895}, {\"date\": \"1999-02-01T00:00:00\", \"precipitation\": 7.941671767497748}, {\"date\": \"1999-03-01T00:00:00\", \"precipitation\": 117.97177173032668}, {\"date\": \"1999-04-01T00:00:00\", \"precipitation\": 84.47351846457126}, {\"date\": \"1999-05-01T00:00:00\", \"precipitation\": 34.830768527519176}, {\"date\": \"1999-06-01T00:00:00\", \"precipitation\": 29.107572379719713}, {\"date\": \"1999-07-01T00:00:00\", \"precipitation\": 46.099734448351654}, {\"date\": \"1999-08-01T00:00:00\", \"precipitation\": 44.74340972780368}, {\"date\": \"1999-09-01T00:00:00\", \"precipitation\": 18.85335413391173}, {\"date\": \"1999-10-01T00:00:00\", \"precipitation\": 45.10609932551806}, {\"date\": \"1999-11-01T00:00:00\", \"precipitation\": 62.53344265243354}, {\"date\": \"1999-12-01T00:00:00\", \"precipitation\": 40.265634595513006}, {\"date\": \"2000-01-01T00:00:00\", \"precipitation\": 10.120618585869403}, {\"date\": \"2000-02-01T00:00:00\", \"precipitation\": 7.679956318626458}, {\"date\": \"2000-03-01T00:00:00\", \"precipitation\": 33.11445050539482}, {\"date\": \"2000-04-01T00:00:00\", \"precipitation\": 48.37479251791059}, {\"date\": \"2000-05-01T00:00:00\", \"precipitation\": 42.36235559216466}, {\"date\": \"2000-06-01T00:00:00\", \"precipitation\": 31.918344440058874}, {\"date\": \"2000-07-01T00:00:00\", \"precipitation\": 43.04746633798889}, {\"date\": \"2000-08-01T00:00:00\", \"precipitation\": 52.21783199644487}, {\"date\": \"2000-09-01T00:00:00\", \"precipitation\": 21.480528219218712}, {\"date\": \"2000-10-01T00:00:00\", \"precipitation\": 46.60897191632286}, {\"date\": \"2000-11-01T00:00:00\", \"precipitation\": 75.36437804394777}, {\"date\": \"2000-12-01T00:00:00\", \"precipitation\": 49.66173870380543}, {\"date\": \"2001-01-01T00:00:00\", \"precipitation\": 75.61712737867663}, {\"date\": \"2001-02-01T00:00:00\", \"precipitation\": 15.093642889936142}, {\"date\": \"2001-03-01T00:00:00\", \"precipitation\": 88.68160375583581}, {\"date\": \"2001-04-01T00:00:00\", \"precipitation\": 103.8857364215059}, {\"date\": \"2001-05-01T00:00:00\", \"precipitation\": 47.91982912124405}, {\"date\": \"2001-06-01T00:00:00\", \"precipitation\": 55.2087152217497}, {\"date\": \"2001-07-01T00:00:00\", \"precipitation\": 49.48915530335761}, {\"date\": \"2001-08-01T00:00:00\", \"precipitation\": 47.65929845769345}, {\"date\": \"2001-09-01T00:00:00\", \"precipitation\": 28.868350050571276}, {\"date\": \"2001-10-01T00:00:00\", \"precipitation\": 57.25757372395709}, {\"date\": \"2001-11-01T00:00:00\", \"precipitation\": 80.78763196075256}, {\"date\": \"2001-12-01T00:00:00\", \"precipitation\": 21.072944368291587}, {\"date\": \"2002-01-01T00:00:00\", \"precipitation\": 37.24087695533035}, {\"date\": \"2002-02-01T00:00:00\", \"precipitation\": 15.070340092795645}, {\"date\": \"2002-03-01T00:00:00\", \"precipitation\": 91.96211213908288}, {\"date\": \"2002-04-01T00:00:00\", \"precipitation\": 108.87859310520086}, {\"date\": \"2002-05-01T00:00:00\", \"precipitation\": 103.00262641022424}, {\"date\": \"2002-06-01T00:00:00\", \"precipitation\": 33.00636016977796}, {\"date\": \"2002-07-01T00:00:00\", \"precipitation\": 31.500286692157196}, {\"date\": \"2002-08-01T00:00:00\", \"precipitation\": 39.079992940079094}, {\"date\": \"2002-09-01T00:00:00\", \"precipitation\": 15.080708831928213}, {\"date\": \"2002-10-01T00:00:00\", \"precipitation\": 49.85760598965845}, {\"date\": \"2002-11-01T00:00:00\", \"precipitation\": 57.99349028165156}, {\"date\": \"2002-12-01T00:00:00\", \"precipitation\": 106.87327325659774}, {\"date\": \"2003-01-01T00:00:00\", \"precipitation\": 16.759938355401598}, {\"date\": \"2003-02-01T00:00:00\", \"precipitation\": 15.689801769021988}, {\"date\": \"2003-03-01T00:00:00\", \"precipitation\": 60.43737154105965}, {\"date\": \"2003-04-01T00:00:00\", \"precipitation\": 142.166806650159}, {\"date\": \"2003-05-01T00:00:00\", \"precipitation\": 119.72534078556961}, {\"date\": \"2003-06-01T00:00:00\", \"precipitation\": 38.7309474157888}, {\"date\": \"2003-07-01T00:00:00\", \"precipitation\": 43.42321492164568}, {\"date\": \"2003-08-01T00:00:00\", \"precipitation\": 81.33334724431171}, {\"date\": \"2003-09-01T00:00:00\", \"precipitation\": 23.788816341073346}, {\"date\": \"2003-10-01T00:00:00\", \"precipitation\": 34.86589194865566}, {\"date\": \"2003-11-01T00:00:00\", \"precipitation\": 46.437252688923024}, {\"date\": \"2003-12-01T00:00:00\", \"precipitation\": 36.80001977660267}, {\"date\": \"2004-01-01T00:00:00\", \"precipitation\": 48.68559029700599}, {\"date\": \"2004-02-01T00:00:00\", \"precipitation\": 27.72723863565365}, {\"date\": \"2004-03-01T00:00:00\", \"precipitation\": 64.55377124097605}, {\"date\": \"2004-04-01T00:00:00\", \"precipitation\": 147.5742303918396}, {\"date\": \"2004-05-01T00:00:00\", \"precipitation\": 63.690482215577994}, {\"date\": \"2004-06-01T00:00:00\", \"precipitation\": 26.64051771660113}, {\"date\": \"2004-07-01T00:00:00\", \"precipitation\": 35.380351943354725}, {\"date\": \"2004-08-01T00:00:00\", \"precipitation\": 44.00944006816079}, {\"date\": \"2004-09-01T00:00:00\", \"precipitation\": 36.10488692537216}, {\"date\": \"2004-10-01T00:00:00\", \"precipitation\": 44.50692755150201}, {\"date\": \"2004-11-01T00:00:00\", \"precipitation\": 75.34289341391263}, {\"date\": \"2004-12-01T00:00:00\", \"precipitation\": 49.20922216509368}, {\"date\": \"2005-01-01T00:00:00\", \"precipitation\": 28.024470191551274}, {\"date\": \"2005-02-01T00:00:00\", \"precipitation\": 18.97816751091512}, {\"date\": \"2005-03-01T00:00:00\", \"precipitation\": 63.04754373543026}, {\"date\": \"2005-04-01T00:00:00\", \"precipitation\": 88.87886372534936}, {\"date\": \"2005-05-01T00:00:00\", \"precipitation\": 121.85154192390311}, {\"date\": \"2005-06-01T00:00:00\", \"precipitation\": 36.593002052545636}, {\"date\": \"2005-07-01T00:00:00\", \"precipitation\": 45.5330795318344}, {\"date\": \"2005-08-01T00:00:00\", \"precipitation\": 44.380112589788645}, {\"date\": \"2005-09-01T00:00:00\", \"precipitation\": 36.60482748700357}, {\"date\": \"2005-10-01T00:00:00\", \"precipitation\": 36.22901222740856}, {\"date\": \"2005-11-01T00:00:00\", \"precipitation\": 33.18725165218254}, {\"date\": \"2005-12-01T00:00:00\", \"precipitation\": 17.33848104132434}, {\"date\": \"2006-01-01T00:00:00\", \"precipitation\": 14.3735038235382}, {\"date\": \"2006-02-01T00:00:00\", \"precipitation\": 25.031254842912816}, {\"date\": \"2006-03-01T00:00:00\", \"precipitation\": 82.52575750280313}, {\"date\": \"2006-04-01T00:00:00\", \"precipitation\": 131.11803084985448}, {\"date\": \"2006-05-01T00:00:00\", \"precipitation\": 65.87563014028932}, {\"date\": \"2006-06-01T00:00:00\", \"precipitation\": 32.22491974412889}, {\"date\": \"2006-07-01T00:00:00\", \"precipitation\": 36.01371441209991}, {\"date\": \"2006-08-01T00:00:00\", \"precipitation\": 65.36632688786737}, {\"date\": \"2006-09-01T00:00:00\", \"precipitation\": 26.596233663240895}, {\"date\": \"2006-10-01T00:00:00\", \"precipitation\": 54.67266821370298}, {\"date\": \"2006-11-01T00:00:00\", \"precipitation\": 137.77049834705505}, {\"date\": \"2006-12-01T00:00:00\", \"precipitation\": 110.97838369198209}, {\"date\": \"2007-01-01T00:00:00\", \"precipitation\": 32.94925455119919}, {\"date\": \"2007-02-01T00:00:00\", \"precipitation\": 56.16954576497756}, {\"date\": \"2007-03-01T00:00:00\", \"precipitation\": 51.477053920661}, {\"date\": \"2007-04-01T00:00:00\", \"precipitation\": 115.59585040298794}, {\"date\": \"2007-05-01T00:00:00\", \"precipitation\": 73.99508519392087}, {\"date\": \"2007-06-01T00:00:00\", \"precipitation\": 85.07477015598215}, {\"date\": \"2007-07-01T00:00:00\", \"precipitation\": 79.75040754373497}, {\"date\": \"2007-08-01T00:00:00\", \"precipitation\": 65.99795726499673}, {\"date\": \"2007-09-01T00:00:00\", \"precipitation\": 61.21912766108411}, {\"date\": \"2007-10-01T00:00:00\", \"precipitation\": 33.58960546740034}, {\"date\": \"2007-11-01T00:00:00\", \"precipitation\": 40.38946979034836}, {\"date\": \"2007-12-01T00:00:00\", \"precipitation\": 32.874704595048094}, {\"date\": \"2008-01-01T00:00:00\", \"precipitation\": 21.22772971497362}, {\"date\": \"2008-02-01T00:00:00\", \"precipitation\": 21.96755864560592}, {\"date\": \"2008-03-01T00:00:00\", \"precipitation\": 100.23932460963401}, {\"date\": \"2008-04-01T00:00:00\", \"precipitation\": 66.52506000739183}, {\"date\": \"2008-05-01T00:00:00\", \"precipitation\": 36.4702364404606}, {\"date\": \"2008-06-01T00:00:00\", \"precipitation\": 31.094656262260607}, {\"date\": \"2008-07-01T00:00:00\", \"precipitation\": 45.930000055558146}, {\"date\": \"2008-08-01T00:00:00\", \"precipitation\": 45.37777782427574}, {\"date\": \"2008-09-01T00:00:00\", \"precipitation\": 33.65437921724385}, {\"date\": \"2008-10-01T00:00:00\", \"precipitation\": 68.36501356165276}, {\"date\": \"2008-11-01T00:00:00\", \"precipitation\": 72.81392807450757}, {\"date\": \"2008-12-01T00:00:00\", \"precipitation\": 17.15969485111915}, {\"date\": \"2009-01-01T00:00:00\", \"precipitation\": 21.084992568435403}, {\"date\": \"2009-02-01T00:00:00\", \"precipitation\": 11.312782910564376}, {\"date\": \"2009-03-01T00:00:00\", \"precipitation\": 29.45817619860887}, {\"date\": \"2009-04-01T00:00:00\", \"precipitation\": 81.43260879915478}, {\"date\": \"2009-05-01T00:00:00\", \"precipitation\": 83.47704905784343}, {\"date\": \"2009-06-01T00:00:00\", \"precipitation\": 24.7297798151884}, {\"date\": \"2009-07-01T00:00:00\", \"precipitation\": 28.660048385277893}, {\"date\": \"2009-08-01T00:00:00\", \"precipitation\": 30.192869422418447}, {\"date\": \"2009-09-01T00:00:00\", \"precipitation\": 24.813376105378143}, {\"date\": \"2009-10-01T00:00:00\", \"precipitation\": 49.501976658597435}, {\"date\": \"2009-11-01T00:00:00\", \"precipitation\": 46.80203963553936}, {\"date\": \"2009-12-01T00:00:00\", \"precipitation\": 107.8121683205681}, {\"date\": \"2010-01-01T00:00:00\", \"precipitation\": 38.90605146080796}, {\"date\": \"2010-02-01T00:00:00\", \"precipitation\": 74.44312583984502}, {\"date\": \"2010-03-01T00:00:00\", \"precipitation\": 136.53199799767114}, {\"date\": \"2010-04-01T00:00:00\", \"precipitation\": 96.88222305101341}, {\"date\": \"2010-05-01T00:00:00\", \"precipitation\": 110.46142932896245}, {\"date\": \"2010-06-01T00:00:00\", \"precipitation\": 38.62778265916343}, {\"date\": \"2010-07-01T00:00:00\", \"precipitation\": 46.616155437515694}, {\"date\": \"2010-08-01T00:00:00\", \"precipitation\": 53.51445767543807}, {\"date\": \"2010-09-01T00:00:00\", \"precipitation\": 34.80961425392047}, {\"date\": \"2010-10-01T00:00:00\", \"precipitation\": 48.401048714683235}, {\"date\": \"2010-11-01T00:00:00\", \"precipitation\": 38.34880443579816}, {\"date\": \"2010-12-01T00:00:00\", \"precipitation\": 33.02138221795638}, {\"date\": \"2011-01-01T00:00:00\", \"precipitation\": 12.137188076401198}, {\"date\": \"2011-02-01T00:00:00\", \"precipitation\": 25.42578389177012}, {\"date\": \"2011-03-01T00:00:00\", \"precipitation\": 74.33754498943334}, {\"date\": \"2011-04-01T00:00:00\", \"precipitation\": 47.92561750235498}, {\"date\": \"2011-05-01T00:00:00\", \"precipitation\": 57.66129633556119}, {\"date\": \"2011-06-01T00:00:00\", \"precipitation\": 55.23242267081905}, {\"date\": \"2011-07-01T00:00:00\", \"precipitation\": 65.17792237520241}, {\"date\": \"2011-08-01T00:00:00\", \"precipitation\": 77.08739553113232}, {\"date\": \"2011-09-01T00:00:00\", \"precipitation\": 45.12218521045777}, {\"date\": \"2011-10-01T00:00:00\", \"precipitation\": 72.81044324883942}, {\"date\": \"2011-11-01T00:00:00\", \"precipitation\": 154.6190793003478}, {\"date\": \"2011-12-01T00:00:00\", \"precipitation\": 51.95659394007813}, {\"date\": \"2012-01-01T00:00:00\", \"precipitation\": 6.534192980548207}, {\"date\": \"2012-02-01T00:00:00\", \"precipitation\": 14.70669648572664}, {\"date\": \"2012-03-01T00:00:00\", \"precipitation\": 34.45616640853861}, {\"date\": \"2012-04-01T00:00:00\", \"precipitation\": 194.23460578816625}, {\"date\": \"2012-05-01T00:00:00\", \"precipitation\": 131.02872312751782}, {\"date\": \"2012-06-01T00:00:00\", \"precipitation\": 49.98408620916846}, {\"date\": \"2012-07-01T00:00:00\", \"precipitation\": 68.01302756769066}, {\"date\": \"2012-08-01T00:00:00\", \"precipitation\": 62.86226019964094}, {\"date\": \"2012-09-01T00:00:00\", \"precipitation\": 48.59780067376643}, {\"date\": \"2012-10-01T00:00:00\", \"precipitation\": 73.7768280137804}, {\"date\": \"2012-11-01T00:00:00\", \"precipitation\": 68.91403858361589}, {\"date\": \"2012-12-01T00:00:00\", \"precipitation\": 83.39312915556863}, {\"date\": \"2013-01-01T00:00:00\", \"precipitation\": 26.192551207690638}, {\"date\": \"2013-02-01T00:00:00\", \"precipitation\": 12.916263159660463}, {\"date\": \"2013-03-01T00:00:00\", \"precipitation\": 107.02381224415457}, {\"date\": \"2013-04-01T00:00:00\", \"precipitation\": 200.09930199935755}, {\"date\": \"2013-05-01T00:00:00\", \"precipitation\": 60.68260987441431}, {\"date\": \"2013-06-01T00:00:00\", \"precipitation\": 44.09726440514546}, {\"date\": \"2013-07-01T00:00:00\", \"precipitation\": 56.9654205054431}, {\"date\": \"2013-08-01T00:00:00\", \"precipitation\": 57.07747217872858}, {\"date\": \"2013-09-01T00:00:00\", \"precipitation\": 42.06384117301794}, {\"date\": \"2013-10-01T00:00:00\", \"precipitation\": 41.671723666352555}, {\"date\": \"2013-11-01T00:00:00\", \"precipitation\": 66.53738085372167}, {\"date\": \"2013-12-01T00:00:00\", \"precipitation\": 63.89704308613499}, {\"date\": \"2014-01-01T00:00:00\", \"precipitation\": 11.070465690966467}, {\"date\": \"2014-02-01T00:00:00\", \"precipitation\": 45.63383962490114}, {\"date\": \"2014-03-01T00:00:00\", \"precipitation\": 83.59949206090992}, {\"date\": \"2014-04-01T00:00:00\", \"precipitation\": 51.47646754275935}, {\"date\": \"2014-05-01T00:00:00\", \"precipitation\": 51.17628842311696}, {\"date\": \"2014-06-01T00:00:00\", \"precipitation\": 37.43835119103841}, {\"date\": \"2014-07-01T00:00:00\", \"precipitation\": 46.265915768709846}, {\"date\": \"2014-08-01T00:00:00\", \"precipitation\": 72.32048569921125}, {\"date\": \"2014-09-01T00:00:00\", \"precipitation\": 28.664213561742514}, {\"date\": \"2014-10-01T00:00:00\", \"precipitation\": 59.188734606092744}, {\"date\": \"2014-11-01T00:00:00\", \"precipitation\": 58.89101990135827}, {\"date\": \"2014-12-01T00:00:00\", \"precipitation\": 44.80828250206877}, {\"date\": \"2015-01-01T00:00:00\", \"precipitation\": 6.01866917426045}, {\"date\": \"2015-02-01T00:00:00\", \"precipitation\": 18.409973461262986}, {\"date\": \"2015-03-01T00:00:00\", \"precipitation\": 32.86756538921508}, {\"date\": \"2015-04-01T00:00:00\", \"precipitation\": 167.43202425357248}, {\"date\": \"2015-05-01T00:00:00\", \"precipitation\": 77.97132339940178}, {\"date\": \"2015-06-01T00:00:00\", \"precipitation\": 48.64928962483427}, {\"date\": \"2015-07-01T00:00:00\", \"precipitation\": 34.67536332790816}, {\"date\": \"2015-08-01T00:00:00\", \"precipitation\": 23.002980165907314}, {\"date\": \"2015-09-01T00:00:00\", \"precipitation\": 22.98208732244479}, {\"date\": \"2015-10-01T00:00:00\", \"precipitation\": 51.325419741920925}, {\"date\": \"2015-11-01T00:00:00\", \"precipitation\": 105.06145018563299}, {\"date\": \"2015-12-01T00:00:00\", \"precipitation\": 72.8128380809991}, {\"date\": \"2016-01-01T00:00:00\", \"precipitation\": 45.02095837608957}, {\"date\": \"2016-02-01T00:00:00\", \"precipitation\": 15.949331746121413}, {\"date\": \"2016-03-01T00:00:00\", \"precipitation\": 48.42797957322167}, {\"date\": \"2016-04-01T00:00:00\", \"precipitation\": 161.04571900881442}, {\"date\": \"2016-05-01T00:00:00\", \"precipitation\": 85.67136882766539}, {\"date\": \"2016-06-01T00:00:00\", \"precipitation\": 43.52951712396302}, {\"date\": \"2016-07-01T00:00:00\", \"precipitation\": 42.94884153921534}, {\"date\": \"2016-08-01T00:00:00\", \"precipitation\": 31.429068058235828}, {\"date\": \"2016-09-01T00:00:00\", \"precipitation\": 24.13592653449493}, {\"date\": \"2016-10-01T00:00:00\", \"precipitation\": 34.388816732172806}, {\"date\": \"2016-11-01T00:00:00\", \"precipitation\": 60.204455664153656}, {\"date\": \"2016-12-01T00:00:00\", \"precipitation\": 17.15345187975463}, {\"date\": \"2017-01-01T00:00:00\", \"precipitation\": 15.481236360804822}, {\"date\": \"2017-02-01T00:00:00\", \"precipitation\": 35.3454631484109}, {\"date\": \"2017-03-01T00:00:00\", \"precipitation\": 35.418749535813745}, {\"date\": \"2017-04-01T00:00:00\", \"precipitation\": 61.65030038119439}, {\"date\": \"2017-05-01T00:00:00\", \"precipitation\": 68.75630763775966}, {\"date\": \"2017-06-01T00:00:00\", \"precipitation\": 30.214436158451594}, {\"date\": \"2017-07-01T00:00:00\", \"precipitation\": 99.9670522789263}, {\"date\": \"2017-08-01T00:00:00\", \"precipitation\": 61.28682262240552}, {\"date\": \"2017-09-01T00:00:00\", \"precipitation\": 44.717444114972366}, {\"date\": \"2017-10-01T00:00:00\", \"precipitation\": 86.67875146825347}, {\"date\": \"2017-11-01T00:00:00\", \"precipitation\": 70.78523946689188}, {\"date\": \"2017-12-01T00:00:00\", \"precipitation\": 21.050060196394412}, {\"date\": \"2018-01-01T00:00:00\", \"precipitation\": 21.398048973870054}, {\"date\": \"2018-02-01T00:00:00\", \"precipitation\": 15.693445552252651}, {\"date\": \"2018-03-01T00:00:00\", \"precipitation\": 165.70570498918025}, {\"date\": \"2018-04-01T00:00:00\", \"precipitation\": 252.55897893926442}, {\"date\": \"2018-05-01T00:00:00\", \"precipitation\": 142.17189734836185}, {\"date\": \"2018-06-01T00:00:00\", \"precipitation\": 91.29913638525929}, {\"date\": \"2018-07-01T00:00:00\", \"precipitation\": 43.48030929056161}, {\"date\": \"2018-08-01T00:00:00\", \"precipitation\": 51.47945622949123}, {\"date\": \"2018-09-01T00:00:00\", \"precipitation\": 18.428479797341154}, {\"date\": \"2018-10-01T00:00:00\", \"precipitation\": 40.33002120050828}, {\"date\": \"2018-11-01T00:00:00\", \"precipitation\": 38.51455638515618}, {\"date\": \"2018-12-01T00:00:00\", \"precipitation\": 81.59898091505478}, {\"date\": \"2019-01-01T00:00:00\", \"precipitation\": 13.056713380380392}, {\"date\": \"2019-02-01T00:00:00\", \"precipitation\": 14.697913164586305}, {\"date\": \"2019-03-01T00:00:00\", \"precipitation\": 35.059757321885094}, {\"date\": \"2019-04-01T00:00:00\", \"precipitation\": 94.1150545949964}, {\"date\": \"2019-05-01T00:00:00\", \"precipitation\": 50.82977095488846}, {\"date\": \"2019-06-01T00:00:00\", \"precipitation\": 79.4018331532569}, {\"date\": \"2019-07-01T00:00:00\", \"precipitation\": 59.73659754628776}, {\"date\": \"2019-08-01T00:00:00\", \"precipitation\": 63.17206153196189}, {\"date\": \"2019-09-01T00:00:00\", \"precipitation\": 39.07446236200821}, {\"date\": \"2019-10-01T00:00:00\", \"precipitation\": 111.12462625806141}, {\"date\": \"2019-11-01T00:00:00\", \"precipitation\": 116.45723713447768}, {\"date\": \"2019-12-01T00:00:00\", \"precipitation\": 135.8451689837449}, {\"date\": \"2020-01-01T00:00:00\", \"precipitation\": 59.379468167261265}, {\"date\": \"2020-02-01T00:00:00\", \"precipitation\": 35.618151480323476}, {\"date\": \"2020-03-01T00:00:00\", \"precipitation\": 163.50730950932112}, {\"date\": \"2020-04-01T00:00:00\", \"precipitation\": 195.8566476680864}, {\"date\": \"2020-05-01T00:00:00\", \"precipitation\": 77.64125365999234}, {\"date\": \"2020-06-01T00:00:00\", \"precipitation\": 78.18200492019899}, {\"date\": \"2020-07-01T00:00:00\", \"precipitation\": 71.31655465191683}, {\"date\": \"2020-08-01T00:00:00\", \"precipitation\": 85.31119564449824}, {\"date\": \"2020-09-01T00:00:00\", \"precipitation\": 48.717081669659606}, {\"date\": \"2020-10-01T00:00:00\", \"precipitation\": 77.0177319245417}, {\"date\": \"2020-11-01T00:00:00\", \"precipitation\": 86.5397574370411}, {\"date\": \"2020-12-01T00:00:00\", \"precipitation\": 37.82512490200531}, {\"date\": \"2021-01-01T00:00:00\", \"precipitation\": 29.26594964338652}, {\"date\": \"2021-02-01T00:00:00\", \"precipitation\": 38.184715829126084}, {\"date\": \"2021-03-01T00:00:00\", \"precipitation\": 37.888017437844915}, {\"date\": \"2021-04-01T00:00:00\", \"precipitation\": 88.06142404739744}, {\"date\": \"2021-05-01T00:00:00\", \"precipitation\": 122.784768616415}, {\"date\": \"2021-06-01T00:00:00\", \"precipitation\": 29.597436721525774}, {\"date\": \"2021-07-01T00:00:00\", \"precipitation\": 42.920067553703035}, {\"date\": \"2021-08-01T00:00:00\", \"precipitation\": 48.66129755759217}, {\"date\": \"2021-09-01T00:00:00\", \"precipitation\": 45.3227692147549}, {\"date\": \"2021-10-01T00:00:00\", \"precipitation\": 41.589025155909475}, {\"date\": \"2021-11-01T00:00:00\", \"precipitation\": 44.10791787491937}, {\"date\": \"2021-12-01T00:00:00\", \"precipitation\": 41.572157726378514}, {\"date\": \"2022-01-01T00:00:00\", \"precipitation\": 35.373603437089656}, {\"date\": \"2022-02-01T00:00:00\", \"precipitation\": 47.84521406113798}]}}, {\"mode\": \"vega-lite\"});\n",
       "</script>"
      ],
      "text/plain": [
       "alt.Chart(...)"
      ]
     },
     "metadata": {},
     "output_type": "display_data"
    }
   ],
   "source": [
    "# Ensure the DataFrame is properly formatted\n",
    "df['precipitation'] = pd.to_numeric(df['precipitation'])\n",
    "\n",
    "# Plotting with Altair\n",
    "chart = alt.Chart(df).mark_line(point=True).encode(\n",
    "    x='date:T',\n",
    "    y='precipitation:Q',\n",
    "    tooltip=['date:T', 'precipitation:Q']\n",
    ").properties(\n",
    "    title='Monthly Precipitation',\n",
    "    width=600,\n",
    "    height=400\n",
    ").interactive()\n",
    "\n",
    "chart.display()\n"
   ]
  },
  {
   "cell_type": "code",
   "execution_count": null,
   "id": "47f71c58-7931-4038-9cab-789c47b51618",
   "metadata": {},
   "outputs": [],
   "source": []
  }
 ],
 "metadata": {
  "kernelspec": {
   "display_name": "Python 3 (ipykernel)",
   "language": "python",
   "name": "python3"
  },
  "language_info": {
   "codemirror_mode": {
    "name": "ipython",
    "version": 3
   },
   "file_extension": ".py",
   "mimetype": "text/x-python",
   "name": "python",
   "nbconvert_exporter": "python",
   "pygments_lexer": "ipython3",
   "version": "3.12.2"
  }
 },
 "nbformat": 4,
 "nbformat_minor": 5
}
