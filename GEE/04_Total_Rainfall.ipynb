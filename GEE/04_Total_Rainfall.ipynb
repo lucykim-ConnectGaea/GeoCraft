{
 "cells": [
  {
   "cell_type": "code",
   "execution_count": 1,
   "id": "d970b307-1ade-485d-9989-a7a9b3610a46",
   "metadata": {},
   "outputs": [],
   "source": [
    "import ee"
   ]
  },
  {
   "cell_type": "code",
   "execution_count": 2,
   "id": "debe465b-eaf8-48ce-ad8c-18fe9e68fff3",
   "metadata": {},
   "outputs": [
    {
     "data": {
      "text/plain": [
       "True"
      ]
     },
     "execution_count": 2,
     "metadata": {},
     "output_type": "execute_result"
    }
   ],
   "source": [
    "ee.Authenticate()"
   ]
  },
  {
   "cell_type": "code",
   "execution_count": 3,
   "id": "cac3e832-780e-417e-a1dc-df5fec7bbd27",
   "metadata": {},
   "outputs": [],
   "source": [
    "ee.Initialize()"
   ]
  },
  {
   "cell_type": "code",
   "execution_count": 4,
   "id": "4811cc30-f055-4068-8cce-b5571ece747e",
   "metadata": {},
   "outputs": [],
   "source": [
    "#import the dataset\n",
    "chirps = ee.ImageCollection(\"UCSB-CHG/CHIRPS/PENTAD\")"
   ]
  },
  {
   "cell_type": "code",
   "execution_count": 5,
   "id": "10aa2333-44db-482a-abd2-40152f4cf5d4",
   "metadata": {},
   "outputs": [],
   "source": [
    "# Initial date of interest (inclusive).\n",
    "i_date = '2000-01-01'\n",
    "\n",
    "## Final date of interest (exclusive).\n",
    "f_date = '2024-01-01'\n",
    "\n",
    "start_year = 2000\n",
    "end_year = 2024"
   ]
  },
  {
   "cell_type": "markdown",
   "id": "dd8f5f54-3479-44d6-aa1e-7283b8ef259f",
   "metadata": {},
   "source": [
    "## Total Annual Rainfall"
   ]
  },
  {
   "cell_type": "code",
   "execution_count": 6,
   "id": "922e407d-8de8-451d-a714-c9ae5e917e9e",
   "metadata": {
    "jupyter": {
     "source_hidden": true
    }
   },
   "outputs": [],
   "source": [
    "#year 2017\n",
    "year = 2017\n",
    "startDate = ee.Date.fromYMD(year, 1, 1)\n",
    "endDate = startDate.advance(1, 'year')\n",
    "filtered = chirps.filter(ee.Filter.date(startDate, endDate))\n",
    "total = filtered.reduce(ee.Reducer.sum())"
   ]
  },
  {
   "cell_type": "code",
   "execution_count": 7,
   "id": "af41f4b9-288d-4689-b2bc-2e20609bb7d3",
   "metadata": {},
   "outputs": [],
   "source": [
    "#Total annual Rainfall 2017\n",
    "import geemap\n",
    "Map = geemap.Map()\n",
    "\n",
    "palette = ['#ffffcc','#a1dab4','#41b6c4','#2c7fb8','#253494']\n",
    "visParams = {\n",
    "    'min':0,\n",
    "    'max': 2000,\n",
    "    'palette': palette\n",
    "}\n",
    "\n",
    "Map.addLayer(total, visParams, 'Total Precipitation')"
   ]
  },
  {
   "cell_type": "code",
   "execution_count": 11,
   "id": "53b3a051-838c-41cc-85b0-cf2b1352a429",
   "metadata": {},
   "outputs": [
    {
     "data": {
      "text/html": [
       "\n",
       "            <style>\n",
       "                .geemap-dark {\n",
       "                    --jp-widgets-color: white;\n",
       "                    --jp-widgets-label-color: white;\n",
       "                    --jp-ui-font-color1: white;\n",
       "                    --jp-layout-color2: #454545;\n",
       "                    background-color: #383838;\n",
       "                }\n",
       "\n",
       "                .geemap-dark .jupyter-button {\n",
       "                    --jp-layout-color3: #383838;\n",
       "                }\n",
       "\n",
       "                .geemap-colab {\n",
       "                    background-color: var(--colab-primary-surface-color, white);\n",
       "                }\n",
       "\n",
       "                .geemap-colab .jupyter-button {\n",
       "                    --jp-layout-color3: var(--colab-primary-surface-color, white);\n",
       "                }\n",
       "            </style>\n",
       "            "
      ],
      "text/plain": [
       "<IPython.core.display.HTML object>"
      ]
     },
     "metadata": {},
     "output_type": "display_data"
    },
    {
     "data": {
      "application/vnd.jupyter.widget-view+json": {
       "model_id": "80f14c728ec844edbaa7337d09ed55b7",
       "version_major": 2,
       "version_minor": 0
      },
      "text/plain": [
       "Map(bottom=1299.0, center=[4.390228926463396, 51.74075108976869], controls=(WidgetControl(options=['position',…"
      ]
     },
     "execution_count": 11,
     "metadata": {},
     "output_type": "execute_result"
    }
   ],
   "source": [
    "Map"
   ]
  },
  {
   "cell_type": "code",
   "execution_count": 59,
   "id": "aaebece8-3c10-4d67-adaa-814dbc49a3f4",
   "metadata": {},
   "outputs": [
    {
     "data": {
      "text/html": [
       "\n",
       "            <style>\n",
       "                .geemap-dark {\n",
       "                    --jp-widgets-color: white;\n",
       "                    --jp-widgets-label-color: white;\n",
       "                    --jp-ui-font-color1: white;\n",
       "                    --jp-layout-color2: #454545;\n",
       "                    background-color: #383838;\n",
       "                }\n",
       "\n",
       "                .geemap-dark .jupyter-button {\n",
       "                    --jp-layout-color3: #383838;\n",
       "                }\n",
       "\n",
       "                .geemap-colab {\n",
       "                    background-color: var(--colab-primary-surface-color, white);\n",
       "                }\n",
       "\n",
       "                .geemap-colab .jupyter-button {\n",
       "                    --jp-layout-color3: var(--colab-primary-surface-color, white);\n",
       "                }\n",
       "            </style>\n",
       "            "
      ],
      "text/plain": [
       "<IPython.core.display.HTML object>"
      ]
     },
     "metadata": {},
     "output_type": "display_data"
    }
   ],
   "source": [
    "#Total Rainfall in Kenya"
   ]
  },
  {
   "cell_type": "code",
   "execution_count": 10,
   "id": "e6183851-9e53-452b-81a4-81a1cbbf1f2d",
   "metadata": {},
   "outputs": [
    {
     "data": {
      "text/html": [
       "\n",
       "            <style>\n",
       "                .geemap-dark {\n",
       "                    --jp-widgets-color: white;\n",
       "                    --jp-widgets-label-color: white;\n",
       "                    --jp-ui-font-color1: white;\n",
       "                    --jp-layout-color2: #454545;\n",
       "                    background-color: #383838;\n",
       "                }\n",
       "\n",
       "                .geemap-dark .jupyter-button {\n",
       "                    --jp-layout-color3: #383838;\n",
       "                }\n",
       "\n",
       "                .geemap-colab {\n",
       "                    background-color: var(--colab-primary-surface-color, white);\n",
       "                }\n",
       "\n",
       "                .geemap-colab .jupyter-button {\n",
       "                    --jp-layout-color3: var(--colab-primary-surface-color, white);\n",
       "                }\n",
       "            </style>\n",
       "            "
      ],
      "text/plain": [
       "<IPython.core.display.HTML object>"
      ]
     },
     "metadata": {},
     "output_type": "display_data"
    }
   ],
   "source": [
    "\n",
    "#import shapefile\n",
    "project_area = ee.FeatureCollection(\"projects/connect-gaea/assets/project_areas\")\n",
    "aoi = project_area.geometry()\n",
    "Map.addLayer(aoi, {}, 'aoi')\n"
   ]
  },
  {
   "cell_type": "code",
   "execution_count": 12,
   "id": "75382540-0830-45d9-88b6-5fdbed0aecd7",
   "metadata": {},
   "outputs": [
    {
     "data": {
      "text/html": [
       "\n",
       "            <style>\n",
       "                .geemap-dark {\n",
       "                    --jp-widgets-color: white;\n",
       "                    --jp-widgets-label-color: white;\n",
       "                    --jp-ui-font-color1: white;\n",
       "                    --jp-layout-color2: #454545;\n",
       "                    background-color: #383838;\n",
       "                }\n",
       "\n",
       "                .geemap-dark .jupyter-button {\n",
       "                    --jp-layout-color3: #383838;\n",
       "                }\n",
       "\n",
       "                .geemap-colab {\n",
       "                    background-color: var(--colab-primary-surface-color, white);\n",
       "                }\n",
       "\n",
       "                .geemap-colab .jupyter-button {\n",
       "                    --jp-layout-color3: var(--colab-primary-surface-color, white);\n",
       "                }\n",
       "            </style>\n",
       "            "
      ],
      "text/plain": [
       "<IPython.core.display.HTML object>"
      ]
     },
     "metadata": {},
     "output_type": "display_data"
    },
    {
     "name": "stdout",
     "output_type": "stream",
     "text": [
      "Precipitation sum: 1588.4501567503746 mm\n"
     ]
    }
   ],
   "source": [
    "scale = 5000\n",
    "# Reduce the region\n",
    "stats = total.reduceRegion(\n",
    "    reducer = ee.Reducer.mean(),\n",
    "    geometry = aoi,\n",
    "    scale = scale\n",
    ")\n",
    "\n",
    "# Print the precipitation sum\n",
    "precipitation_sum = stats.get('precipitation_sum').getInfo()\n",
    "print(\"Precipitation sum:\", precipitation_sum, \"mm\")\n"
   ]
  },
  {
   "cell_type": "code",
   "execution_count": 13,
   "id": "dcf69b56-bac6-42a6-b066-76076d23118b",
   "metadata": {},
   "outputs": [
    {
     "data": {
      "text/html": [
       "\n",
       "            <style>\n",
       "                .geemap-dark {\n",
       "                    --jp-widgets-color: white;\n",
       "                    --jp-widgets-label-color: white;\n",
       "                    --jp-ui-font-color1: white;\n",
       "                    --jp-layout-color2: #454545;\n",
       "                    background-color: #383838;\n",
       "                }\n",
       "\n",
       "                .geemap-dark .jupyter-button {\n",
       "                    --jp-layout-color3: #383838;\n",
       "                }\n",
       "\n",
       "                .geemap-colab {\n",
       "                    background-color: var(--colab-primary-surface-color, white);\n",
       "                }\n",
       "\n",
       "                .geemap-colab .jupyter-button {\n",
       "                    --jp-layout-color3: var(--colab-primary-surface-color, white);\n",
       "                }\n",
       "            </style>\n",
       "            "
      ],
      "text/plain": [
       "<IPython.core.display.HTML object>"
      ]
     },
     "metadata": {},
     "output_type": "display_data"
    }
   ],
   "source": [
    "#clip\n",
    "total_westernke = total.clip(aoi)\n",
    "Map.addLayer(total_westernke, visParams, 'Total Precipitation (Western_kenya)')\n"
   ]
  },
  {
   "cell_type": "code",
   "execution_count": 14,
   "id": "bfabaae1-3661-4e46-b95b-e45df2e53ba7",
   "metadata": {},
   "outputs": [
    {
     "data": {
      "text/html": [
       "\n",
       "            <style>\n",
       "                .geemap-dark {\n",
       "                    --jp-widgets-color: white;\n",
       "                    --jp-widgets-label-color: white;\n",
       "                    --jp-ui-font-color1: white;\n",
       "                    --jp-layout-color2: #454545;\n",
       "                    background-color: #383838;\n",
       "                }\n",
       "\n",
       "                .geemap-dark .jupyter-button {\n",
       "                    --jp-layout-color3: #383838;\n",
       "                }\n",
       "\n",
       "                .geemap-colab {\n",
       "                    background-color: var(--colab-primary-surface-color, white);\n",
       "                }\n",
       "\n",
       "                .geemap-colab .jupyter-button {\n",
       "                    --jp-layout-color3: var(--colab-primary-surface-color, white);\n",
       "                }\n",
       "            </style>\n",
       "            "
      ],
      "text/plain": [
       "<IPython.core.display.HTML object>"
      ]
     },
     "metadata": {},
     "output_type": "display_data"
    },
    {
     "data": {
      "application/vnd.jupyter.widget-view+json": {
       "model_id": "80f14c728ec844edbaa7337d09ed55b7",
       "version_major": 2,
       "version_minor": 0
      },
      "text/plain": [
       "Map(bottom=16676.0, center=[0.08789059053082422, 36.73426856727007], controls=(WidgetControl(options=['positio…"
      ]
     },
     "execution_count": 14,
     "metadata": {},
     "output_type": "execute_result"
    }
   ],
   "source": [
    "Map"
   ]
  },
  {
   "cell_type": "markdown",
   "id": "1342eec5-3f0a-442c-8ac7-49a3df681136",
   "metadata": {},
   "source": [
    "## Calculating time series for rainfall\n"
   ]
  },
  {
   "cell_type": "raw",
   "id": "1c063993-71a1-4b13-817d-863081673ce3",
   "metadata": {},
   "source": [
    "write a function that calculates total rainfall for a region for 1 year, and then map() that function over a list of 24 years."
   ]
  },
  {
   "cell_type": "code",
   "execution_count": 21,
   "id": "f99c1370-3684-40a0-b562-54ee302d10f8",
   "metadata": {},
   "outputs": [
    {
     "data": {
      "text/html": [
       "\n",
       "            <style>\n",
       "                .geemap-dark {\n",
       "                    --jp-widgets-color: white;\n",
       "                    --jp-widgets-label-color: white;\n",
       "                    --jp-ui-font-color1: white;\n",
       "                    --jp-layout-color2: #454545;\n",
       "                    background-color: #383838;\n",
       "                }\n",
       "\n",
       "                .geemap-dark .jupyter-button {\n",
       "                    --jp-layout-color3: #383838;\n",
       "                }\n",
       "\n",
       "                .geemap-colab {\n",
       "                    background-color: var(--colab-primary-surface-color, white);\n",
       "                }\n",
       "\n",
       "                .geemap-colab .jupyter-button {\n",
       "                    --jp-layout-color3: var(--colab-primary-surface-color, white);\n",
       "                }\n",
       "            </style>\n",
       "            "
      ],
      "text/plain": [
       "<IPython.core.display.HTML object>"
      ]
     },
     "metadata": {},
     "output_type": "display_data"
    },
    {
     "name": "stdout",
     "output_type": "stream",
     "text": [
      "{'type': 'Feature', 'geometry': None, 'id': '0', 'properties': {'precipitation': 683647.8222572688, 'year': 2000}}\n"
     ]
    }
   ],
   "source": [
    "# Define the initial and final years\n",
    "initial_year = 2000\n",
    "final_year = 2023\n",
    "\n",
    "\n",
    "# Function to calculate rainfall for 1 year\n",
    "def yearly_rainfall(year):\n",
    "    # Create a date object for the start of the year\n",
    "    start_date = ee.Date.fromYMD(year, 1, 1)\n",
    "    # Advance the start date by 1 year to get the end date\n",
    "    end_date = start_date.advance(1, 'year')\n",
    "    \n",
    "    # Filter the CHIRPS dataset for the specified year\n",
    "    filtered = chirps.filterDate(start_date, end_date)\n",
    "    \n",
    "    # Reduce the filtered dataset to calculate the sum and mean of precipitation\n",
    "    total_precipitation = filtered.reduce(ee.Reducer.sum())\n",
    "    mean_precipitation = filtered.reduce(ee.Reducer.mean())\n",
    "    \n",
    "    # Calculate the sum of precipitation within the AOI\n",
    "    stats = total_precipitation.reduceRegion(\n",
    "        reducer=ee.Reducer.sum(),\n",
    "        geometry=aoi,\n",
    "        scale=5000\n",
    "    )\n",
    "    \n",
    "    # Create a feature with properties for year and precipitation\n",
    "    feature = ee.Feature(\n",
    "        None,\n",
    "        {\n",
    "            'year': year,\n",
    "            'precipitation': stats.get('precipitation_sum')\n",
    "        }\n",
    "    )\n",
    "    \n",
    "    return feature\n",
    "\n",
    "# Iterate over each year in the range and calculate rainfall\n",
    "yearly_rainfall_features = []\n",
    "for year in range(initial_year, final_year + 1):\n",
    "    yearly_rainfall_features.append(yearly_rainfall(year))\n",
    "\n",
    "# Convert the list of features to an Earth Engine FeatureCollection\n",
    "yearly_rainfall_fc = ee.FeatureCollection(yearly_rainfall_features)\n",
    "\n",
    "# Print the first feature to verify\n",
    "print(yearly_rainfall_fc.first().getInfo())"
   ]
  },
  {
   "cell_type": "code",
   "execution_count": 22,
   "id": "6e59674e-cf23-42a1-8787-f13120f3e0e4",
   "metadata": {},
   "outputs": [
    {
     "data": {
      "text/html": [
       "\n",
       "            <style>\n",
       "                .geemap-dark {\n",
       "                    --jp-widgets-color: white;\n",
       "                    --jp-widgets-label-color: white;\n",
       "                    --jp-ui-font-color1: white;\n",
       "                    --jp-layout-color2: #454545;\n",
       "                    background-color: #383838;\n",
       "                }\n",
       "\n",
       "                .geemap-dark .jupyter-button {\n",
       "                    --jp-layout-color3: #383838;\n",
       "                }\n",
       "\n",
       "                .geemap-colab {\n",
       "                    background-color: var(--colab-primary-surface-color, white);\n",
       "                }\n",
       "\n",
       "                .geemap-colab .jupyter-button {\n",
       "                    --jp-layout-color3: var(--colab-primary-surface-color, white);\n",
       "                }\n",
       "            </style>\n",
       "            "
      ],
      "text/plain": [
       "<IPython.core.display.HTML object>"
      ]
     },
     "metadata": {},
     "output_type": "display_data"
    },
    {
     "data": {
      "image/png": "[encoded data removed]",
      "text/plain": [
       "<Figure size 1000x600 with 1 Axes>"
      ]
     },
     "metadata": {},
     "output_type": "display_data"
    }
   ],
   "source": [
    "import matplotlib.pyplot as plt\n",
    "\n",
    "# Extract the data from the FeatureCollection\n",
    "data = yearly_rainfall_fc.getInfo()['features']\n",
    "\n",
    "# Get the years and precipitation values\n",
    "years = [feature['properties']['year'] for feature in data]\n",
    "precipitation = [feature['properties']['precipitation'] for feature in data]\n",
    "\n",
    "# Create the plot\n",
    "plt.figure(figsize=(10, 6))\n",
    "plt.plot(years, precipitation, marker='o')\n",
    "\n",
    "# Add labels and title\n",
    "plt.xlabel('Year')\n",
    "plt.ylabel('Total Precipitation')\n",
    "plt.title('Yearly Precipitation from 2000 to 2024')\n",
    "\n",
    "# Show the plot\n",
    "plt.show()\n"
   ]
  },
  {
   "cell_type": "code",
   "execution_count": 23,
   "id": "eaca83bc-bf42-4fd8-8d74-7be45fa30a28",
   "metadata": {},
   "outputs": [
    {
     "data": {
      "text/html": [
       "\n",
       "            <style>\n",
       "                .geemap-dark {\n",
       "                    --jp-widgets-color: white;\n",
       "                    --jp-widgets-label-color: white;\n",
       "                    --jp-ui-font-color1: white;\n",
       "                    --jp-layout-color2: #454545;\n",
       "                    background-color: #383838;\n",
       "                }\n",
       "\n",
       "                .geemap-dark .jupyter-button {\n",
       "                    --jp-layout-color3: #383838;\n",
       "                }\n",
       "\n",
       "                .geemap-colab {\n",
       "                    background-color: var(--colab-primary-surface-color, white);\n",
       "                }\n",
       "\n",
       "                .geemap-colab .jupyter-button {\n",
       "                    --jp-layout-color3: var(--colab-primary-surface-color, white);\n",
       "                }\n",
       "            </style>\n",
       "            "
      ],
      "text/plain": [
       "<IPython.core.display.HTML object>"
      ]
     },
     "metadata": {},
     "output_type": "display_data"
    },
    {
     "data": {
      "image/png": "[encoded data removed]",
      "text/plain": [
       "<Figure size 1000x600 with 1 Axes>"
      ]
     },
     "metadata": {},
     "output_type": "display_data"
    }
   ],
   "source": [
    "\n",
    "\n",
    "# Create a bar plot\n",
    "plt.figure(figsize=(10, 6))\n",
    "plt.bar(years, precipitation)\n",
    "\n",
    "# Add labels and title\n",
    "plt.xlabel('Year')\n",
    "plt.ylabel('Total Precipitation')\n",
    "plt.title('Yearly Precipitation from 2000 to 2024')\n",
    "\n",
    "# Show the plot\n",
    "plt.show()\n"
   ]
  },
  {
   "cell_type": "code",
   "execution_count": 31,
   "id": "941bb2fb-4c59-4ff5-8510-97deb1db949e",
   "metadata": {},
   "outputs": [
    {
     "data": {
      "text/html": [
       "\n",
       "            <style>\n",
       "                .geemap-dark {\n",
       "                    --jp-widgets-color: white;\n",
       "                    --jp-widgets-label-color: white;\n",
       "                    --jp-ui-font-color1: white;\n",
       "                    --jp-layout-color2: #454545;\n",
       "                    background-color: #383838;\n",
       "                }\n",
       "\n",
       "                .geemap-dark .jupyter-button {\n",
       "                    --jp-layout-color3: #383838;\n",
       "                }\n",
       "\n",
       "                .geemap-colab {\n",
       "                    background-color: var(--colab-primary-surface-color, white);\n",
       "                }\n",
       "\n",
       "                .geemap-colab .jupyter-button {\n",
       "                    --jp-layout-color3: var(--colab-primary-surface-color, white);\n",
       "                }\n",
       "            </style>\n",
       "            "
      ],
      "text/plain": [
       "<IPython.core.display.HTML object>"
      ]
     },
     "metadata": {},
     "output_type": "display_data"
    },
    {
     "name": "stdout",
     "output_type": "stream",
     "text": [
      "{'type': 'Feature', 'geometry': None, 'id': '0', 'properties': {'avg_precipitation': 17.872057227014455, 'year': 2000}}\n"
     ]
    }
   ],
   "source": [
    "# Function to calculate average rainfall for 1 year\n",
    "def yearly_avg_rainfall(year):\n",
    "    # Create a date object for the start of the year\n",
    "    start_date = ee.Date.fromYMD(year, 1, 1)\n",
    "    # Advance the start date by 1 year to get the end date\n",
    "    end_date = start_date.advance(1, 'year')\n",
    "    \n",
    "    # Filter the CHIRPS dataset for the specified year\n",
    "    filtered = chirps.filterDate(start_date, end_date)\n",
    "    \n",
    "    # Reduce the filtered dataset to calculate the mean of precipitation\n",
    "    mean_precipitation = filtered.reduce(ee.Reducer.mean())\n",
    "    \n",
    "    # Calculate the mean of precipitation within the AOI\n",
    "    stats = mean_precipitation.reduceRegion(\n",
    "        reducer=ee.Reducer.mean(),\n",
    "        geometry=aoi,\n",
    "        scale=5000\n",
    "    )\n",
    "    \n",
    "    # Create a feature with properties for year and average precipitation\n",
    "    feature = ee.Feature(\n",
    "        None,\n",
    "        {\n",
    "            'year': year,\n",
    "            'avg_precipitation': stats.get('precipitation_mean')\n",
    "        }\n",
    "    )\n",
    "    \n",
    "    return feature\n",
    "\n",
    "# Iterate over each year in the range and calculate average rainfall\n",
    "yearly_avg_rainfall_features = []\n",
    "for year in range(initial_year, final_year + 1):\n",
    "    yearly_avg_rainfall_features.append(yearly_avg_rainfall(year))\n",
    "\n",
    "# Convert the list of features to an Earth Engine FeatureCollection\n",
    "yearly_avg_rainfall_fc = ee.FeatureCollection(yearly_avg_rainfall_features)\n",
    "\n",
    "# Print the first feature to verify\n",
    "print(yearly_avg_rainfall_fc.first().getInfo())\n",
    "\n"
   ]
  },
  {
   "cell_type": "code",
   "execution_count": 32,
   "id": "9894ef7a-fd4d-41c9-a6c8-1a2250c15d10",
   "metadata": {},
   "outputs": [
    {
     "data": {
      "text/html": [
       "\n",
       "            <style>\n",
       "                .geemap-dark {\n",
       "                    --jp-widgets-color: white;\n",
       "                    --jp-widgets-label-color: white;\n",
       "                    --jp-ui-font-color1: white;\n",
       "                    --jp-layout-color2: #454545;\n",
       "                    background-color: #383838;\n",
       "                }\n",
       "\n",
       "                .geemap-dark .jupyter-button {\n",
       "                    --jp-layout-color3: #383838;\n",
       "                }\n",
       "\n",
       "                .geemap-colab {\n",
       "                    background-color: var(--colab-primary-surface-color, white);\n",
       "                }\n",
       "\n",
       "                .geemap-colab .jupyter-button {\n",
       "                    --jp-layout-color3: var(--colab-primary-surface-color, white);\n",
       "                }\n",
       "            </style>\n",
       "            "
      ],
      "text/plain": [
       "<IPython.core.display.HTML object>"
      ]
     },
     "metadata": {},
     "output_type": "display_data"
    },
    {
     "data": {
      "image/png": "[encoded data removed]",
      "text/plain": [
       "<Figure size 1000x600 with 1 Axes>"
      ]
     },
     "metadata": {},
     "output_type": "display_data"
    }
   ],
   "source": [
    "import matplotlib.pyplot as plt\n",
    "\n",
    "# Convert the FeatureCollection to a Python list\n",
    "yearly_avg_rainfall_list = yearly_avg_rainfall_fc.getInfo()['features']\n",
    "\n",
    "# Extract the year and average precipitation properties\n",
    "years = [feature['properties']['year'] for feature in yearly_avg_rainfall_list]\n",
    "avg_precipitation = [feature['properties']['avg_precipitation'] for feature in yearly_avg_rainfall_list]\n",
    "\n",
    "# Create a bar chart\n",
    "plt.figure(figsize=(10, 6))\n",
    "plt.bar(years, avg_precipitation, color='blue')\n",
    "\n",
    "plt.title('Average Yearly Rainfall')\n",
    "plt.xlabel('Year')\n",
    "plt.ylabel('Average Rainfall')\n",
    "\n",
    "plt.show()\n",
    "\n"
   ]
  },
  {
   "cell_type": "code",
   "execution_count": 93,
   "id": "7437682c-48a0-46dc-9b6c-84b67e3adcaa",
   "metadata": {},
   "outputs": [
    {
     "data": {
      "text/html": [
       "\n",
       "            <style>\n",
       "                .geemap-dark {\n",
       "                    --jp-widgets-color: white;\n",
       "                    --jp-widgets-label-color: white;\n",
       "                    --jp-ui-font-color1: white;\n",
       "                    --jp-layout-color2: #454545;\n",
       "                    background-color: #383838;\n",
       "                }\n",
       "\n",
       "                .geemap-dark .jupyter-button {\n",
       "                    --jp-layout-color3: #383838;\n",
       "                }\n",
       "\n",
       "                .geemap-colab {\n",
       "                    background-color: var(--colab-primary-surface-color, white);\n",
       "                }\n",
       "\n",
       "                .geemap-colab .jupyter-button {\n",
       "                    --jp-layout-color3: var(--colab-primary-surface-color, white);\n",
       "                }\n",
       "            </style>\n",
       "            "
      ],
      "text/plain": [
       "<IPython.core.display.HTML object>"
      ]
     },
     "metadata": {},
     "output_type": "display_data"
    }
   ],
   "source": [
    "# Specify export parameters\n",
    "export_params = {\n",
    "    'collection': yearly_rainfall_fc,\n",
    "    'folder': 'earthengine',  # Specify the folder in Google Drive\n",
    "    'fileNamePrefix': 'rainfalltotalyears',  # Specify the file name prefix\n",
    "    'fileFormat': 'CSV'  # Specify the file format\n",
    "}\n",
    "\n",
    "# Export the table to Google Drive\n",
    "task = ee.batch.Export.table.toDrive(**export_params)\n",
    "task.start()"
   ]
  },
  {
   "cell_type": "code",
   "execution_count": 74,
   "id": "05830b2d-8d96-4abf-a9be-c237ade0a9e9",
   "metadata": {},
   "outputs": [
    {
     "data": {
      "text/html": [
       "\n",
       "            <style>\n",
       "                .geemap-dark {\n",
       "                    --jp-widgets-color: white;\n",
       "                    --jp-widgets-label-color: white;\n",
       "                    --jp-ui-font-color1: white;\n",
       "                    --jp-layout-color2: #454545;\n",
       "                    background-color: #383838;\n",
       "                }\n",
       "\n",
       "                .geemap-dark .jupyter-button {\n",
       "                    --jp-layout-color3: #383838;\n",
       "                }\n",
       "\n",
       "                .geemap-colab {\n",
       "                    background-color: var(--colab-primary-surface-color, white);\n",
       "                }\n",
       "\n",
       "                .geemap-colab .jupyter-button {\n",
       "                    --jp-layout-color3: var(--colab-primary-surface-color, white);\n",
       "                }\n",
       "            </style>\n",
       "            "
      ],
      "text/plain": [
       "<IPython.core.display.HTML object>"
      ]
     },
     "metadata": {},
     "output_type": "display_data"
    }
   ],
   "source": [
    "# Specify export parameters\n",
    "export_params = {\n",
    "    'collection': rainfallYears,\n",
    "    'folder': 'earthengine',  # Specify the folder in Google Drive\n",
    "    'fileNamePrefix': 'rainfalltotalyear',  # Specify the file name prefix\n",
    "    'fileFormat': 'CSV'  # Specify the file format\n",
    "}\n",
    "\n",
    "# Export the table to Google Drive\n",
    "task = ee.batch.Export.table.toDrive(**export_params)\n",
    "task.start()"
   ]
  },
  {
   "cell_type": "code",
   "execution_count": null,
   "id": "32e397c5-0f66-4933-9644-04a04ee5d875",
   "metadata": {},
   "outputs": [],
   "source": []
  }
 ],
 "metadata": {
  "kernelspec": {
   "display_name": "Python 3 (ipykernel)",
   "language": "python",
   "name": "python3"
  },
  "language_info": {
   "codemirror_mode": {
    "name": "ipython",
    "version": 3
   },
   "file_extension": ".py",
   "mimetype": "text/x-python",
   "name": "python",
   "nbconvert_exporter": "python",
   "pygments_lexer": "ipython3",
   "version": "3.12.2"
  }
 },
 "nbformat": 4,
 "nbformat_minor": 5
}
