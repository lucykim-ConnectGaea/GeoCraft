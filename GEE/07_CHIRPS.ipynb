{
 "cells": [
  {
   "cell_type": "code",
   "execution_count": null,
   "id": "62486a07-76a8-4b83-b600-9d5cf8b587e9",
   "metadata": {},
   "outputs": [],
   "source": [
    "import ee"
   ]
  },
  {
   "cell_type": "code",
   "execution_count": 2,
   "id": "749db03d-f2bc-45bf-80f4-af3424268d84",
   "metadata": {},
   "outputs": [
    {
     "data": {
      "text/plain": [
       "True"
      ]
     },
     "execution_count": 2,
     "metadata": {},
     "output_type": "execute_result"
    }
   ],
   "source": [
    "ee.Authenticate()"
   ]
  },
  {
   "cell_type": "code",
   "execution_count": 3,
   "id": "96894530-da2e-4ca8-95b6-fdc00db96ad7",
   "metadata": {},
   "outputs": [],
   "source": [
    "ee.Initialize()"
   ]
  },
  {
   "cell_type": "code",
   "execution_count": 15,
   "id": "6da61067-ce29-4516-9e2f-0c6e5ff7b5de",
   "metadata": {},
   "outputs": [],
   "source": [
    "#functions\n",
    "\n",
    "def calculate_avg_annual_rainfall(chirps_collection, start_year, end_year):\n",
    "    # Define years\n",
    "    years = ee.List.sequence(start_year, end_year)\n",
    "\n",
    "    # Define a function to calculate annual precipitation\n",
    "    def calculate_annual_precip(year):\n",
    "        start_date = ee.Date.fromYMD(year, 1, 1)\n",
    "        end_date = start_date.advance(1, 'year')\n",
    "        annual_precip = chirps_collection.filterDate(start_date, end_date).sum().rename('annual_precip')\n",
    "        return annual_precip.set('year', year)\n",
    "\n",
    "    # Map over years to calculate annual precipitation\n",
    "    annual_precip_collection = ee.ImageCollection.fromImages(years.map(calculate_annual_precip))\n",
    "\n",
    "    return annual_precip_collection"
   ]
  },
  {
   "cell_type": "code",
   "execution_count": 16,
   "id": "e6ad6ee1-422e-44dd-ac59-6a7e20ba27d9",
   "metadata": {},
   "outputs": [],
   "source": [
    "#data\n",
    "# Define the CHIRPS dataset\n",
    "chirps = ee.ImageCollection(\"UCSB-CHG/CHIRPS/DAILY\")\n",
    "aoi = aoi = ee.FeatureCollection(\"projects/connect-gaea/assets/project_areas\").geometry()"
   ]
  },
  {
   "cell_type": "code",
   "execution_count": 17,
   "id": "e8a5b78d-9fbc-4f36-aab2-77bee0891ef5",
   "metadata": {},
   "outputs": [],
   "source": [
    "# Call the function to calculate average annual rainfall for each year from 2000 to 2023\n",
    "avg_annual_rainfall = calculate_avg_annual_rainfall(chirps, 2000, 2023)"
   ]
  },
  {
   "cell_type": "code",
   "execution_count": 18,
   "id": "d2b461e3-80d1-4131-8777-3dfa5e30b664",
   "metadata": {},
   "outputs": [
    {
     "name": "stdout",
     "output_type": "stream",
     "text": [
      "{'type': 'ImageCollection', 'bands': [], 'features': [{'type': 'Image', 'bands': [{'id': 'annual_precip', 'data_type': {'type': 'PixelType', 'precision': 'double'}, 'crs': 'EPSG:4326', 'crs_transform': [1, 0, 0, 0, 1, 0]}], 'properties': {'year': 2000, 'system:index': '0'}}, {'type': 'Image', 'bands': [{'id': 'annual_precip', 'data_type': {'type': 'PixelType', 'precision': 'double'}, 'crs': 'EPSG:4326', 'crs_transform': [1, 0, 0, 0, 1, 0]}], 'properties': {'year': 2001, 'system:index': '1'}}, {'type': 'Image', 'bands': [{'id': 'annual_precip', 'data_type': {'type': 'PixelType', 'precision': 'double'}, 'crs': 'EPSG:4326', 'crs_transform': [1, 0, 0, 0, 1, 0]}], 'properties': {'year': 2002, 'system:index': '2'}}, {'type': 'Image', 'bands': [{'id': 'annual_precip', 'data_type': {'type': 'PixelType', 'precision': 'double'}, 'crs': 'EPSG:4326', 'crs_transform': [1, 0, 0, 0, 1, 0]}], 'properties': {'year': 2003, 'system:index': '3'}}, {'type': 'Image', 'bands': [{'id': 'annual_precip', 'data_type': {'type': 'PixelType', 'precision': 'double'}, 'crs': 'EPSG:4326', 'crs_transform': [1, 0, 0, 0, 1, 0]}], 'properties': {'year': 2004, 'system:index': '4'}}, {'type': 'Image', 'bands': [{'id': 'annual_precip', 'data_type': {'type': 'PixelType', 'precision': 'double'}, 'crs': 'EPSG:4326', 'crs_transform': [1, 0, 0, 0, 1, 0]}], 'properties': {'year': 2005, 'system:index': '5'}}, {'type': 'Image', 'bands': [{'id': 'annual_precip', 'data_type': {'type': 'PixelType', 'precision': 'double'}, 'crs': 'EPSG:4326', 'crs_transform': [1, 0, 0, 0, 1, 0]}], 'properties': {'year': 2006, 'system:index': '6'}}, {'type': 'Image', 'bands': [{'id': 'annual_precip', 'data_type': {'type': 'PixelType', 'precision': 'double'}, 'crs': 'EPSG:4326', 'crs_transform': [1, 0, 0, 0, 1, 0]}], 'properties': {'year': 2007, 'system:index': '7'}}, {'type': 'Image', 'bands': [{'id': 'annual_precip', 'data_type': {'type': 'PixelType', 'precision': 'double'}, 'crs': 'EPSG:4326', 'crs_transform': [1, 0, 0, 0, 1, 0]}], 'properties': {'year': 2008, 'system:index': '8'}}, {'type': 'Image', 'bands': [{'id': 'annual_precip', 'data_type': {'type': 'PixelType', 'precision': 'double'}, 'crs': 'EPSG:4326', 'crs_transform': [1, 0, 0, 0, 1, 0]}], 'properties': {'year': 2009, 'system:index': '9'}}, {'type': 'Image', 'bands': [{'id': 'annual_precip', 'data_type': {'type': 'PixelType', 'precision': 'double'}, 'crs': 'EPSG:4326', 'crs_transform': [1, 0, 0, 0, 1, 0]}], 'properties': {'year': 2010, 'system:index': '10'}}, {'type': 'Image', 'bands': [{'id': 'annual_precip', 'data_type': {'type': 'PixelType', 'precision': 'double'}, 'crs': 'EPSG:4326', 'crs_transform': [1, 0, 0, 0, 1, 0]}], 'properties': {'year': 2011, 'system:index': '11'}}, {'type': 'Image', 'bands': [{'id': 'annual_precip', 'data_type': {'type': 'PixelType', 'precision': 'double'}, 'crs': 'EPSG:4326', 'crs_transform': [1, 0, 0, 0, 1, 0]}], 'properties': {'year': 2012, 'system:index': '12'}}, {'type': 'Image', 'bands': [{'id': 'annual_precip', 'data_type': {'type': 'PixelType', 'precision': 'double'}, 'crs': 'EPSG:4326', 'crs_transform': [1, 0, 0, 0, 1, 0]}], 'properties': {'year': 2013, 'system:index': '13'}}, {'type': 'Image', 'bands': [{'id': 'annual_precip', 'data_type': {'type': 'PixelType', 'precision': 'double'}, 'crs': 'EPSG:4326', 'crs_transform': [1, 0, 0, 0, 1, 0]}], 'properties': {'year': 2014, 'system:index': '14'}}, {'type': 'Image', 'bands': [{'id': 'annual_precip', 'data_type': {'type': 'PixelType', 'precision': 'double'}, 'crs': 'EPSG:4326', 'crs_transform': [1, 0, 0, 0, 1, 0]}], 'properties': {'year': 2015, 'system:index': '15'}}, {'type': 'Image', 'bands': [{'id': 'annual_precip', 'data_type': {'type': 'PixelType', 'precision': 'double'}, 'crs': 'EPSG:4326', 'crs_transform': [1, 0, 0, 0, 1, 0]}], 'properties': {'year': 2016, 'system:index': '16'}}, {'type': 'Image', 'bands': [{'id': 'annual_precip', 'data_type': {'type': 'PixelType', 'precision': 'double'}, 'crs': 'EPSG:4326', 'crs_transform': [1, 0, 0, 0, 1, 0]}], 'properties': {'year': 2017, 'system:index': '17'}}, {'type': 'Image', 'bands': [{'id': 'annual_precip', 'data_type': {'type': 'PixelType', 'precision': 'double'}, 'crs': 'EPSG:4326', 'crs_transform': [1, 0, 0, 0, 1, 0]}], 'properties': {'year': 2018, 'system:index': '18'}}, {'type': 'Image', 'bands': [{'id': 'annual_precip', 'data_type': {'type': 'PixelType', 'precision': 'double'}, 'crs': 'EPSG:4326', 'crs_transform': [1, 0, 0, 0, 1, 0]}], 'properties': {'year': 2019, 'system:index': '19'}}, {'type': 'Image', 'bands': [{'id': 'annual_precip', 'data_type': {'type': 'PixelType', 'precision': 'double'}, 'crs': 'EPSG:4326', 'crs_transform': [1, 0, 0, 0, 1, 0]}], 'properties': {'year': 2020, 'system:index': '20'}}, {'type': 'Image', 'bands': [{'id': 'annual_precip', 'data_type': {'type': 'PixelType', 'precision': 'double'}, 'crs': 'EPSG:4326', 'crs_transform': [1, 0, 0, 0, 1, 0]}], 'properties': {'year': 2021, 'system:index': '21'}}, {'type': 'Image', 'bands': [{'id': 'annual_precip', 'data_type': {'type': 'PixelType', 'precision': 'double'}, 'crs': 'EPSG:4326', 'crs_transform': [1, 0, 0, 0, 1, 0]}], 'properties': {'year': 2022, 'system:index': '22'}}, {'type': 'Image', 'bands': [{'id': 'annual_precip', 'data_type': {'type': 'PixelType', 'precision': 'double'}, 'crs': 'EPSG:4326', 'crs_transform': [1, 0, 0, 0, 1, 0]}], 'properties': {'year': 2023, 'system:index': '23'}}]}\n"
     ]
    }
   ],
   "source": [
    "# Print the result\n",
    "print(avg_annual_rainfall.getInfo())"
   ]
  },
  {
   "cell_type": "code",
   "execution_count": 19,
   "id": "df1746f3-022c-4f35-92c0-7213ab60c1ed",
   "metadata": {},
   "outputs": [],
   "source": [
    "# Convert the ImageCollection to a list\n",
    "annual_precip_list = avg_annual_rainfall.toList(avg_annual_rainfall.size())"
   ]
  },
  {
   "cell_type": "code",
   "execution_count": 20,
   "id": "f21365a8-91c1-4367-9c17-482f814a5d1e",
   "metadata": {},
   "outputs": [],
   "source": [
    "# Create an empty list to store the results\n",
    "results = []\n"
   ]
  },
  {
   "cell_type": "code",
   "execution_count": 22,
   "id": "4c3a15b6-ea26-46d0-9bee-52e9069c8663",
   "metadata": {},
   "outputs": [
    {
     "name": "stdout",
     "output_type": "stream",
     "text": [
      "    Year  Mean Precipitation\n",
      "0   2000         1285.715479\n",
      "1   2001         1523.747679\n",
      "2   2002         1597.653583\n",
      "3   2003         1468.381404\n",
      "4   2004         1387.337448\n",
      "5   2005         1270.301139\n",
      "6   2006         1895.339389\n",
      "7   2007         1516.485021\n",
      "8   2008         1436.865351\n",
      "9   2009         1363.797807\n",
      "10  2010         1642.502961\n",
      "11  2011         1616.003881\n",
      "12  2012         1838.700620\n",
      "13  2013         1608.050093\n",
      "14  2014         1575.402008\n",
      "15  2015         1679.826108\n",
      "16  2016         1324.263360\n",
      "17  2017         1584.441707\n",
      "18  2018         1723.996337\n",
      "19  2019         1877.866277\n",
      "20  2020         2335.300114\n",
      "21  2021         1614.852535\n",
      "22  2022         1921.225349\n",
      "23  2023         1834.155766\n",
      "24  2000         1285.715479\n",
      "25  2001         1523.747679\n",
      "26  2002         1597.653583\n",
      "27  2003         1468.381404\n",
      "28  2004         1387.337448\n",
      "29  2005         1270.301139\n",
      "30  2006         1895.339389\n",
      "31  2007         1516.485021\n",
      "32  2008         1436.865351\n",
      "33  2009         1363.797807\n",
      "34  2010         1642.502961\n",
      "35  2011         1616.003881\n",
      "36  2012         1838.700620\n",
      "37  2013         1608.050093\n",
      "38  2014         1575.402008\n",
      "39  2015         1679.826108\n",
      "40  2016         1324.263360\n",
      "41  2017         1584.441707\n",
      "42  2018         1723.996337\n",
      "43  2019         1877.866277\n",
      "44  2020         2335.300114\n",
      "45  2021         1614.852535\n",
      "46  2022         1921.225349\n",
      "47  2023         1834.155766\n"
     ]
    }
   ],
   "source": [
    "# Iterate over each image in the list\n",
    "for i in range(avg_annual_rainfall.size().getInfo()):\n",
    "    image = ee.Image(annual_precip_list.get(i))\n",
    "    year = image.get('year').getInfo()\n",
    "    # Calculate the mean precipitation for the image\n",
    "    mean_precip = image.reduceRegion(reducer=ee.Reducer.mean(), geometry=aoi, scale=1000).get('annual_precip').getInfo()\n",
    "    results.append({'Year': year, 'Mean Precipitation': mean_precip})\n",
    "\n",
    "# Convert the results to a pandas DataFrame\n",
    "df = pd.DataFrame(results)\n",
    "\n",
    "# Print the DataFrame\n",
    "print(df)"
   ]
  },
  {
   "cell_type": "code",
   "execution_count": 60,
   "id": "2f2e251f-b171-4462-aeb7-6b915ab005ae",
   "metadata": {},
   "outputs": [
    {
     "data": {
      "text/html": [
       "\n",
       "<style>\n",
       "  #altair-viz-c53d9a4e362443ae9206708b79056bce.vega-embed {\n",
       "    width: 100%;\n",
       "    display: flex;\n",
       "  }\n",
       "\n",
       "  #altair-viz-c53d9a4e362443ae9206708b79056bce.vega-embed details,\n",
       "  #altair-viz-c53d9a4e362443ae9206708b79056bce.vega-embed details summary {\n",
       "    position: relative;\n",
       "  }\n",
       "</style>\n",
       "<div id=\"altair-viz-c53d9a4e362443ae9206708b79056bce\"></div>\n",
       "<script type=\"text/javascript\">\n",
       "  var VEGA_DEBUG = (typeof VEGA_DEBUG == \"undefined\") ? {} : VEGA_DEBUG;\n",
       "  (function(spec, embedOpt){\n",
       "    let outputDiv = document.currentScript.previousElementSibling;\n",
       "    if (outputDiv.id !== \"altair-viz-c53d9a4e362443ae9206708b79056bce\") {\n",
       "      outputDiv = document.getElementById(\"altair-viz-c53d9a4e362443ae9206708b79056bce\");\n",
       "    }\n",
       "    const paths = {\n",
       "      \"vega\": \"https://cdn.jsdelivr.net/npm/vega@5?noext\",\n",
       "      \"vega-lib\": \"https://cdn.jsdelivr.net/npm/vega-lib?noext\",\n",
       "      \"vega-lite\": \"https://cdn.jsdelivr.net/npm/vega-lite@5.17.0?noext\",\n",
       "      \"vega-embed\": \"https://cdn.jsdelivr.net/npm/vega-embed@6?noext\",\n",
       "    };\n",
       "\n",
       "    function maybeLoadScript(lib, version) {\n",
       "      var key = `${lib.replace(\"-\", \"\")}_version`;\n",
       "      return (VEGA_DEBUG[key] == version) ?\n",
       "        Promise.resolve(paths[lib]) :\n",
       "        new Promise(function(resolve, reject) {\n",
       "          var s = document.createElement('script');\n",
       "          document.getElementsByTagName(\"head\")[0].appendChild(s);\n",
       "          s.async = true;\n",
       "          s.onload = () => {\n",
       "            VEGA_DEBUG[key] = version;\n",
       "            return resolve(paths[lib]);\n",
       "          };\n",
       "          s.onerror = () => reject(`Error loading script: ${paths[lib]}`);\n",
       "          s.src = paths[lib];\n",
       "        });\n",
       "    }\n",
       "\n",
       "    function showError(err) {\n",
       "      outputDiv.innerHTML = `<div class=\"error\" style=\"color:red;\">${err}</div>`;\n",
       "      throw err;\n",
       "    }\n",
       "\n",
       "    function displayChart(vegaEmbed) {\n",
       "      vegaEmbed(outputDiv, spec, embedOpt)\n",
       "        .catch(err => showError(`Javascript Error: ${err.message}<br>This usually means there's a typo in your chart specification. See the javascript console for the full traceback.`));\n",
       "    }\n",
       "\n",
       "    if(typeof define === \"function\" && define.amd) {\n",
       "      requirejs.config({paths});\n",
       "      require([\"vega-embed\"], displayChart, err => showError(`Error loading script: ${err.message}`));\n",
       "    } else {\n",
       "      maybeLoadScript(\"vega\", \"5\")\n",
       "        .then(() => maybeLoadScript(\"vega-lite\", \"5.17.0\"))\n",
       "        .then(() => maybeLoadScript(\"vega-embed\", \"6\"))\n",
       "        .catch(showError)\n",
       "        .then(() => displayChart(vegaEmbed));\n",
       "    }\n",
       "  })({\"config\": {\"view\": {\"continuousWidth\": 300, \"continuousHeight\": 300}}, \"data\": {\"name\": \"data-399526e8e53d0c973d6cab755bfa963e\"}, \"mark\": {\"type\": \"bar\", \"size\": 8}, \"encoding\": {\"color\": {\"field\": \"Mean Precipitation\", \"scale\": {\"domain\": [1000, 2500], \"scheme\": \"blues\"}, \"type\": \"quantitative\"}, \"tooltip\": [{\"field\": \"Year\", \"title\": \"Year\", \"type\": \"ordinal\"}, {\"field\": \"Mean Precipitation\", \"title\": \"Average Rainfall\", \"type\": \"quantitative\"}], \"x\": {\"field\": \"Year\", \"type\": \"ordinal\"}, \"y\": {\"field\": \"Mean Precipitation\", \"type\": \"quantitative\"}}, \"height\": 300, \"width\": 600, \"$schema\": \"https://vega.github.io/schema/vega-lite/v5.17.0.json\", \"datasets\": {\"data-399526e8e53d0c973d6cab755bfa963e\": [{\"Year\": 2000, \"Mean Precipitation\": 1285.715479236489}, {\"Year\": 2001, \"Mean Precipitation\": 1523.7476790299352}, {\"Year\": 2002, \"Mean Precipitation\": 1597.6535828560275}, {\"Year\": 2003, \"Mean Precipitation\": 1468.381403586449}, {\"Year\": 2004, \"Mean Precipitation\": 1387.3374482857423}, {\"Year\": 2005, \"Mean Precipitation\": 1270.3011387730185}, {\"Year\": 2006, \"Mean Precipitation\": 1895.339389272825}, {\"Year\": 2007, \"Mean Precipitation\": 1516.4850206264482}, {\"Year\": 2008, \"Mean Precipitation\": 1436.865350959572}, {\"Year\": 2009, \"Mean Precipitation\": 1363.797807363108}, {\"Year\": 2010, \"Mean Precipitation\": 1642.5029612312258}, {\"Year\": 2011, \"Mean Precipitation\": 1616.0038811128827}, {\"Year\": 2012, \"Mean Precipitation\": 1838.700619622031}, {\"Year\": 2013, \"Mean Precipitation\": 1608.050092910439}, {\"Year\": 2014, \"Mean Precipitation\": 1575.4020083230496}, {\"Year\": 2015, \"Mean Precipitation\": 1679.8261076093154}, {\"Year\": 2016, \"Mean Precipitation\": 1324.2633603703885}, {\"Year\": 2017, \"Mean Precipitation\": 1584.441706854137}, {\"Year\": 2018, \"Mean Precipitation\": 1723.9963374563843}, {\"Year\": 2019, \"Mean Precipitation\": 1877.866277243996}, {\"Year\": 2020, \"Mean Precipitation\": 2335.3001138294585}, {\"Year\": 2021, \"Mean Precipitation\": 1614.8525351486194}, {\"Year\": 2022, \"Mean Precipitation\": 1921.2253493742444}, {\"Year\": 2023, \"Mean Precipitation\": 1834.155766301298}, {\"Year\": 2000, \"Mean Precipitation\": 1285.715479236489}, {\"Year\": 2001, \"Mean Precipitation\": 1523.7476790299352}, {\"Year\": 2002, \"Mean Precipitation\": 1597.6535828560275}, {\"Year\": 2003, \"Mean Precipitation\": 1468.381403586449}, {\"Year\": 2004, \"Mean Precipitation\": 1387.3374482857423}, {\"Year\": 2005, \"Mean Precipitation\": 1270.3011387730185}, {\"Year\": 2006, \"Mean Precipitation\": 1895.339389272825}, {\"Year\": 2007, \"Mean Precipitation\": 1516.4850206264482}, {\"Year\": 2008, \"Mean Precipitation\": 1436.865350959572}, {\"Year\": 2009, \"Mean Precipitation\": 1363.797807363108}, {\"Year\": 2010, \"Mean Precipitation\": 1642.5029612312258}, {\"Year\": 2011, \"Mean Precipitation\": 1616.0038811128827}, {\"Year\": 2012, \"Mean Precipitation\": 1838.700619622031}, {\"Year\": 2013, \"Mean Precipitation\": 1608.050092910439}, {\"Year\": 2014, \"Mean Precipitation\": 1575.4020083230496}, {\"Year\": 2015, \"Mean Precipitation\": 1679.8261076093154}, {\"Year\": 2016, \"Mean Precipitation\": 1324.2633603703885}, {\"Year\": 2017, \"Mean Precipitation\": 1584.441706854137}, {\"Year\": 2018, \"Mean Precipitation\": 1723.9963374563843}, {\"Year\": 2019, \"Mean Precipitation\": 1877.866277243996}, {\"Year\": 2020, \"Mean Precipitation\": 2335.3001138294585}, {\"Year\": 2021, \"Mean Precipitation\": 1614.8525351486194}, {\"Year\": 2022, \"Mean Precipitation\": 1921.2253493742444}, {\"Year\": 2023, \"Mean Precipitation\": 1834.155766301298}]}}, {\"mode\": \"vega-lite\"});\n",
       "</script>"
      ],
      "text/plain": [
       "alt.Chart(...)"
      ]
     },
     "execution_count": 60,
     "metadata": {},
     "output_type": "execute_result"
    }
   ],
   "source": [
    "#bar chart\n",
    "\n",
    "alt.Chart(df).mark_bar(size=8).encode(\n",
    "    x='Year:O',\n",
    "    y='Mean Precipitation:Q',\n",
    "    color=alt.Color(\n",
    "        'Mean Precipitation:Q', scale=alt.Scale(scheme='blues', domain=(1000, 2500))),\n",
    "    tooltip=[\n",
    "        alt.Tooltip('Year:O', title='Year'),\n",
    "        alt.Tooltip('Mean Precipitation:Q', title='Average Rainfall')\n",
    "    ]).properties(width=600, height=300)"
   ]
  },
  {
   "cell_type": "code",
   "execution_count": 64,
   "id": "dd36c5a6-3ee2-4d7a-862b-331d0480ab0f",
   "metadata": {},
   "outputs": [
    {
     "data": {
      "image/png": "[encoded data removed]",
      "text/plain": [
       "<Figure size 1000x600 with 1 Axes>"
      ]
     },
     "metadata": {},
     "output_type": "display_data"
    }
   ],
   "source": [
    "import matplotlib.pyplot as plt\n",
    "\n",
    "# Sort the DataFrame by the 'Year' column\n",
    "df_sorted = df.sort_values(by='Year')\n",
    "\n",
    "# Data\n",
    "years = df_sorted['Year']\n",
    "precipitation = df_sorted['Mean Precipitation']\n",
    "\n",
    "# Create the line chart with markers only\n",
    "plt.figure(figsize=(10, 6))\n",
    "plt.plot(years, precipitation, marker='o', color='skyblue', linestyle='-')  # Ensure linestyle is not 'None'\n",
    "\n",
    "# Add labels and title\n",
    "plt.xlabel('Year')\n",
    "plt.ylabel('Mean Precipitation')\n",
    "plt.title('Yearly Precipitation')\n",
    "\n",
    "# Show the plot\n",
    "plt.show()\n"
   ]
  },
  {
   "cell_type": "code",
   "execution_count": null,
   "id": "ad7f4762-eafe-4123-ae7a-9e21d0042e39",
   "metadata": {},
   "outputs": [],
   "source": []
  }
 ],
 "metadata": {
  "kernelspec": {
   "display_name": "Python 3 (ipykernel)",
   "language": "python",
   "name": "python3"
  },
  "language_info": {
   "codemirror_mode": {
    "name": "ipython",
    "version": 3
   },
   "file_extension": ".py",
   "mimetype": "text/x-python",
   "name": "python",
   "nbconvert_exporter": "python",
   "pygments_lexer": "ipython3",
   "version": "3.12.2"
  }
 },
 "nbformat": 4,
 "nbformat_minor": 5
}
